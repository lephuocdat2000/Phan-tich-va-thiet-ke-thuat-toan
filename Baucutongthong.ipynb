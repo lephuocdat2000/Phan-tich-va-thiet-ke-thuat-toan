{
  "nbformat": 4,
  "nbformat_minor": 0,
  "metadata": {
    "colab": {
      "name": "Untitled108.ipynb",
      "provenance": [],
      "authorship_tag": "ABX9TyNJDdqlKQ5zXgPcUPMgZFKi",
      "include_colab_link": true
    },
    "kernelspec": {
      "name": "python3",
      "display_name": "Python 3"
    }
  },
  "cells": [
    {
      "cell_type": "markdown",
      "metadata": {
        "id": "view-in-github",
        "colab_type": "text"
      },
      "source": [
        "<a href=\"https://colab.research.google.com/github/lephuocdat2000/Phan-tich-va-thiet-ke-thuat-toan/blob/main/Baucutongthong.ipynb\" target=\"_parent\"><img src=\"https://colab.research.google.com/assets/colab-badge.svg\" alt=\"Open In Colab\"/></a>"
      ]
    },
    {
      "cell_type": "code",
      "metadata": {
        "colab": {
          "base_uri": "https://localhost:8080/"
        },
        "id": "LXXX6Dtahg9S",
        "outputId": "cb8f3509-44eb-44b0-a54a-568e5ccdf21d"
      },
      "source": [
        "n=int(input())\r\n",
        "states=[]\r\n",
        "electoral_colleges=[]\r\n",
        "voters=[]\r\n",
        "inf=float(\"inf\")\r\n",
        "memoi=dict()\r\n",
        "\r\n",
        "for i in range(n):\r\n",
        "    state_name,electoral_num,voter_num=map(str, input().split())\r\n",
        "    states.append(state_name)\r\n",
        "    electoral_colleges.append(int(electoral_num))\r\n",
        "    voters.append(int(voter_num))\r\n",
        "\r\n",
        "def f(v, i, S, memoi):\r\n",
        "  if S==0: return 0\r\n",
        "  if i==n-1 or S<0 :return inf\r\n",
        "  if (i+1,S) not in memoi: memoi[(i+1,S)]= f(v, i + 1, S, memoi) \r\n",
        "  if (i+1,S-v[i+1]) not in memoi: memoi[(i+1, S-v[i+1])] = f(v, i + 1, S - v[i+1], memoi)+ voters[i+1]//2+1\r\n",
        "  print(\"i+1,S:\",i+1,S)\r\n",
        "  print(\"i+1,S-v[i]:\",i+1,S-v[i+1])\r\n",
        "  print(memoi[(i+1,S)],memoi[(i+1,S-v[i+1])])\r\n",
        "  return min(memoi[(i+1,S)],memoi[(i+1, S-v[i+1])])\r\n",
        "\r\n",
        "min_temp=inf\r\n",
        "# for i in range(sum(electoral_colleges)//2+1,sum(electoral_colleges)+1):\r\n",
        "#        print('sum:',i)\r\n",
        "#        temp=f(electoral_colleges,-1,i,memoi)\r\n",
        "#        memoi.clear()\r\n",
        "#        if min_temp>temp: min_temp=temp\r\n",
        "temp=f(electoral_colleges,-1,17,memoi)\r\n",
        "print(memoi)"
      ],
      "execution_count": 6,
      "outputs": [
        {
          "output_type": "stream",
          "text": [
            "5\n",
            "AL 5 18618\n",
            "CT 8 19378\n",
            "DE 3 13944\n",
            "GA 9 20004\n",
            "IL 3 14222\n",
            "i+1,S: 4 17\n",
            "i+1,S-v[i]: 4 14\n",
            "inf inf\n",
            "i+1,S: 4 8\n",
            "i+1,S-v[i]: 4 5\n",
            "inf inf\n",
            "i+1,S: 3 17\n",
            "i+1,S-v[i]: 3 8\n",
            "inf inf\n",
            "i+1,S: 4 14\n",
            "i+1,S-v[i]: 4 11\n",
            "inf inf\n",
            "i+1,S: 4 5\n",
            "i+1,S-v[i]: 4 2\n",
            "inf inf\n",
            "i+1,S: 3 14\n",
            "i+1,S-v[i]: 3 5\n",
            "inf inf\n",
            "i+1,S: 2 17\n",
            "i+1,S-v[i]: 2 14\n",
            "inf inf\n",
            "i+1,S: 4 9\n",
            "i+1,S-v[i]: 4 6\n",
            "inf inf\n",
            "i+1,S: 3 9\n",
            "i+1,S-v[i]: 3 0\n",
            "inf 10003\n",
            "i+1,S: 4 6\n",
            "i+1,S-v[i]: 4 3\n",
            "inf inf\n",
            "i+1,S: 3 6\n",
            "i+1,S-v[i]: 3 -3\n",
            "inf inf\n",
            "i+1,S: 2 9\n",
            "i+1,S-v[i]: 2 6\n",
            "10003 inf\n",
            "i+1,S: 1 17\n",
            "i+1,S-v[i]: 1 9\n",
            "inf 19693\n",
            "i+1,S: 4 12\n",
            "i+1,S-v[i]: 4 9\n",
            "inf inf\n",
            "i+1,S: 4 3\n",
            "i+1,S-v[i]: 4 0\n",
            "inf 7112\n",
            "i+1,S: 3 12\n",
            "i+1,S-v[i]: 3 3\n",
            "inf 17115\n",
            "i+1,S: 2 12\n",
            "i+1,S-v[i]: 2 9\n",
            "17115 10003\n",
            "i+1,S: 4 4\n",
            "i+1,S-v[i]: 4 1\n",
            "inf inf\n",
            "i+1,S: 3 4\n",
            "i+1,S-v[i]: 3 -5\n",
            "inf inf\n",
            "i+1,S: 4 1\n",
            "i+1,S-v[i]: 4 -2\n",
            "inf inf\n",
            "i+1,S: 3 1\n",
            "i+1,S-v[i]: 3 -8\n",
            "inf inf\n",
            "i+1,S: 2 4\n",
            "i+1,S-v[i]: 2 1\n",
            "inf inf\n",
            "i+1,S: 1 12\n",
            "i+1,S-v[i]: 1 4\n",
            "10003 inf\n",
            "i+1,S: 0 17\n",
            "i+1,S-v[i]: 0 12\n",
            "19693 19313\n",
            "{(4, 17): inf, (4, 14): inf, (3, 17): inf, (4, 8): inf, (4, 5): inf, (3, 8): inf, (2, 17): inf, (4, 11): inf, (3, 14): inf, (4, 2): inf, (3, 5): inf, (2, 14): inf, (1, 17): inf, (4, 9): inf, (4, 6): inf, (3, 9): inf, (3, 0): 10003, (2, 9): 10003, (4, 3): inf, (3, 6): inf, (3, -3): inf, (2, 6): inf, (1, 9): 19693, (0, 17): 19693, (4, 12): inf, (3, 12): inf, (4, 0): 7112, (3, 3): 17115, (2, 12): 17115, (1, 12): 10003, (4, 4): inf, (4, 1): inf, (3, 4): inf, (3, -5): inf, (2, 4): inf, (4, -2): inf, (3, 1): inf, (3, -8): inf, (2, 1): inf, (1, 4): inf, (0, 12): 19313}\n"
          ],
          "name": "stdout"
        }
      ]
    }
  ]
}