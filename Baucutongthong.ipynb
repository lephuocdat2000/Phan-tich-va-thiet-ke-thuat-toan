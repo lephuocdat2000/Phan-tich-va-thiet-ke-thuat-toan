{
  "nbformat": 4,
  "nbformat_minor": 0,
  "metadata": {
    "colab": {
      "name": "Untitled108.ipynb",
      "provenance": [],
      "authorship_tag": "ABX9TyOGvolTNUEBPi+wrpAALAIU",
      "include_colab_link": true
    },
    "kernelspec": {
      "name": "python3",
      "display_name": "Python 3"
    }
  },
  "cells": [
    {
      "cell_type": "markdown",
      "metadata": {
        "id": "view-in-github",
        "colab_type": "text"
      },
      "source": [
        "<a href=\"https://colab.research.google.com/github/lephuocdat2000/Phan-tich-va-thiet-ke-thuat-toan/blob/main/Baucutongthong.ipynb\" target=\"_parent\"><img src=\"https://colab.research.google.com/assets/colab-badge.svg\" alt=\"Open In Colab\"/></a>"
      ]
    },
    {
      "cell_type": "code",
      "metadata": {
        "colab": {
          "base_uri": "https://localhost:8080/"
        },
        "id": "LXXX6Dtahg9S",
        "outputId": "cde67bfa-fb9e-4feb-b4b6-fbf0253acc33"
      },
      "source": [
        "n=int(input())\r\n",
        "states=[]\r\n",
        "electoral_colleges=[]\r\n",
        "voters=[]\r\n",
        "inf=float(\"inf\")\r\n",
        "#memoi=dict()\r\n",
        "\r\n",
        "for i in range(n):\r\n",
        "    state_name,electoral_num,voter_num=map(str, input().split())\r\n",
        "    states.append(state_name)\r\n",
        "    electoral_colleges.append(int(electoral_num))\r\n",
        "    voters.append(int(voter_num))\r\n",
        "\r\n",
        "def f(v,require,memoi):\r\n",
        "  max_ele=max(v)\r\n",
        "  memoi=[[0 for x in range(require+max_ele)] for x in range(2)]\r\n",
        "  for i in reversed(range(0,len(v)+1)):\r\n",
        "    for j in range(0,require+max_ele):\r\n",
        "       if j==0: memoi[i%2][j]=0\r\n",
        "       elif (i==n): memoi[i%2][j]=inf\r\n",
        "       else:\r\n",
        "         win=memoi[(i+1)%2][j-v[i]] + voters[i]//2+1\r\n",
        "         lose=memoi[(i+1)%2][j] \r\n",
        "         memoi[i%2][j]=min(win,lose)\r\n",
        "  return min(memoi[0][sum(electoral_colleges)//2+1:])\r\n",
        "if n<=0: min_temp=0\r\n",
        "else:\r\n",
        "  min_temp=inf\r\n",
        "  max_ele=max(electoral_colleges)\r\n",
        "  require=sum(electoral_colleges)//2+4\r\n",
        "  memoi=[[0 for x in range(require+max_ele)] for x in range(2)]\r\n",
        "  print(f(electoral_colleges,require,memoi))\r\n",
        " \r\n"
      ],
      "execution_count": null,
      "outputs": [
        {
          "output_type": "stream",
          "text": [
            "5\n",
            "AL 5 18618\n",
            "CT 8 19378\n",
            "DE 3 13944\n",
            "GA 9 20004\n",
            "IL 3 14222\n",
            "19693\n"
          ],
          "name": "stdout"
        }
      ]
    },
    {
      "cell_type": "markdown",
      "metadata": {
        "id": "FoXriwgdd1JG"
      },
      "source": [
        "Traceback"
      ]
    },
    {
      "cell_type": "code",
      "metadata": {
        "id": "coIhLhn1d2iN",
        "colab": {
          "base_uri": "https://localhost:8080/",
          "height": 453
        },
        "outputId": "0e89ec57-e1fd-4c82-bf60-36f1179a345c"
      },
      "source": [
        "n=int(input())\r\n",
        "states=[]\r\n",
        "electoral_colleges=[]\r\n",
        "voters=[]\r\n",
        "inf=float(\"inf\")\r\n",
        "#memoi=dict()\r\n",
        "\r\n",
        "for i in range(n):\r\n",
        "    state_name,electoral_num,voter_num=map(str, input().split())\r\n",
        "    states.append(state_name)\r\n",
        "    electoral_colleges.append(int(electoral_num))\r\n",
        "    voters.append(int(voter_num))\r\n",
        "\r\n",
        "def f(v,require,memoi):\r\n",
        "  max_ele=max(v)\r\n",
        "  memoi=[[(0,[]) for x in range(require+max_ele)] for x in range(2)]\r\n",
        "  for i in reversed(range(0,len(v)+1)):\r\n",
        "    for j in range(0,require+max_ele):\r\n",
        "       if j==0: memoi[i%2][j]=(0,[None])\r\n",
        "       elif (i==n): memoi[i%2][j]=(inf,[None])\r\n",
        "       else:\r\n",
        "         print(memoi[(i+1)%2][j-v[i]],memoi[(i+1)%2][j])\r\n",
        "         win=memoi[(i+1)%2][j-v[i]] \r\n",
        "         tup_win=list(win)\r\n",
        "         tup_win[0]+= voters[i]//2+1\r\n",
        "         tup_win[1]+=[i]  \r\n",
        "         win=tuple(tup_win)\r\n",
        "         lose=memoi[(i+1)%2][j] \r\n",
        "         if (win[0]<lose[0]): memoi[i%2][j]=win\r\n",
        "         else: memoi[i%2][j]=lose\r\n",
        "         print(i,j,win,lose,memoi[i%2][j])\r\n",
        "  # min_value=min(memoi[0][sum(electoral_colleges)//2+1:][0])\r\n",
        "  # for i in memoi[0][sum(electoral_colleges)//2+1:]:\r\n",
        "  #    if i[0]==min_value: print(i[1],end=\"\")\r\n",
        "  return memoi\r\n",
        "if n<=0: min_temp=0\r\n",
        "else:\r\n",
        "  min_temp=inf\r\n",
        "  max_ele=max(electoral_colleges)\r\n",
        "  require=sum(electoral_colleges)//2+4\r\n",
        "  memoi=[[0 for x in range(require+max_ele)] for x in range(2)]\r\n",
        "  print(f(electoral_colleges,require,memoi))\r\n",
        " \r\n"
      ],
      "execution_count": null,
      "outputs": [
        {
          "output_type": "stream",
          "text": [
            "5\n",
            "AL 5 18618\n",
            "CT 8 19378\n",
            "DE 3 13944\n",
            "GA 9 20004\n",
            "IL 3 14222\n"
          ],
          "name": "stdout"
        },
        {
          "output_type": "error",
          "ename": "TypeError",
          "evalue": "ignored",
          "traceback": [
            "\u001b[0;31m---------------------------------------------------------------------------\u001b[0m",
            "\u001b[0;31mTypeError\u001b[0m                                 Traceback (most recent call last)",
            "\u001b[0;32m<ipython-input-6-d9d1d5a2a2cc>\u001b[0m in \u001b[0;36m<module>\u001b[0;34m()\u001b[0m\n\u001b[1;32m     40\u001b[0m   \u001b[0mrequire\u001b[0m\u001b[0;34m=\u001b[0m\u001b[0msum\u001b[0m\u001b[0;34m(\u001b[0m\u001b[0melectoral_colleges\u001b[0m\u001b[0;34m)\u001b[0m\u001b[0;34m//\u001b[0m\u001b[0;36m2\u001b[0m\u001b[0;34m+\u001b[0m\u001b[0;36m4\u001b[0m\u001b[0;34m\u001b[0m\u001b[0;34m\u001b[0m\u001b[0m\n\u001b[1;32m     41\u001b[0m   \u001b[0mmemoi\u001b[0m\u001b[0;34m=\u001b[0m\u001b[0;34m[\u001b[0m\u001b[0;34m[\u001b[0m\u001b[0;36m0\u001b[0m \u001b[0;32mfor\u001b[0m \u001b[0mx\u001b[0m \u001b[0;32min\u001b[0m \u001b[0mrange\u001b[0m\u001b[0;34m(\u001b[0m\u001b[0mrequire\u001b[0m\u001b[0;34m+\u001b[0m\u001b[0mmax_ele\u001b[0m\u001b[0;34m)\u001b[0m\u001b[0;34m]\u001b[0m \u001b[0;32mfor\u001b[0m \u001b[0mx\u001b[0m \u001b[0;32min\u001b[0m \u001b[0mrange\u001b[0m\u001b[0;34m(\u001b[0m\u001b[0;36m2\u001b[0m\u001b[0;34m)\u001b[0m\u001b[0;34m]\u001b[0m\u001b[0;34m\u001b[0m\u001b[0;34m\u001b[0m\u001b[0m\n\u001b[0;32m---> 42\u001b[0;31m   \u001b[0mprint\u001b[0m\u001b[0;34m(\u001b[0m\u001b[0mf\u001b[0m\u001b[0;34m(\u001b[0m\u001b[0melectoral_colleges\u001b[0m\u001b[0;34m,\u001b[0m\u001b[0mrequire\u001b[0m\u001b[0;34m,\u001b[0m\u001b[0mmemoi\u001b[0m\u001b[0;34m)\u001b[0m\u001b[0;34m)\u001b[0m\u001b[0;34m\u001b[0m\u001b[0;34m\u001b[0m\u001b[0m\n\u001b[0m\u001b[1;32m     43\u001b[0m \u001b[0;34m\u001b[0m\u001b[0m\n",
            "\u001b[0;32m<ipython-input-6-d9d1d5a2a2cc>\u001b[0m in \u001b[0;36mf\u001b[0;34m(v, require, memoi)\u001b[0m\n\u001b[1;32m     14\u001b[0m \u001b[0;32mdef\u001b[0m \u001b[0mf\u001b[0m\u001b[0;34m(\u001b[0m\u001b[0mv\u001b[0m\u001b[0;34m,\u001b[0m\u001b[0mrequire\u001b[0m\u001b[0;34m,\u001b[0m\u001b[0mmemoi\u001b[0m\u001b[0;34m)\u001b[0m\u001b[0;34m:\u001b[0m\u001b[0;34m\u001b[0m\u001b[0;34m\u001b[0m\u001b[0m\n\u001b[1;32m     15\u001b[0m   \u001b[0mmax_ele\u001b[0m\u001b[0;34m=\u001b[0m\u001b[0mmax\u001b[0m\u001b[0;34m(\u001b[0m\u001b[0mv\u001b[0m\u001b[0;34m)\u001b[0m\u001b[0;34m\u001b[0m\u001b[0;34m\u001b[0m\u001b[0m\n\u001b[0;32m---> 16\u001b[0;31m   \u001b[0mmemoi\u001b[0m\u001b[0;34m=\u001b[0m\u001b[0;34m[\u001b[0m\u001b[0;34m[\u001b[0m\u001b[0mtuple\u001b[0m\u001b[0;34m(\u001b[0m\u001b[0;36m0\u001b[0m\u001b[0;34m,\u001b[0m\u001b[0;34m[\u001b[0m\u001b[0;34m]\u001b[0m\u001b[0;34m)\u001b[0m \u001b[0;32mfor\u001b[0m \u001b[0mx\u001b[0m \u001b[0;32min\u001b[0m \u001b[0mrange\u001b[0m\u001b[0;34m(\u001b[0m\u001b[0mrequire\u001b[0m\u001b[0;34m+\u001b[0m\u001b[0mmax_ele\u001b[0m\u001b[0;34m)\u001b[0m\u001b[0;34m]\u001b[0m \u001b[0;32mfor\u001b[0m \u001b[0mx\u001b[0m \u001b[0;32min\u001b[0m \u001b[0mrange\u001b[0m\u001b[0;34m(\u001b[0m\u001b[0;36m2\u001b[0m\u001b[0;34m)\u001b[0m\u001b[0;34m]\u001b[0m\u001b[0;34m\u001b[0m\u001b[0;34m\u001b[0m\u001b[0m\n\u001b[0m\u001b[1;32m     17\u001b[0m   \u001b[0;32mfor\u001b[0m \u001b[0mi\u001b[0m \u001b[0;32min\u001b[0m \u001b[0mreversed\u001b[0m\u001b[0;34m(\u001b[0m\u001b[0mrange\u001b[0m\u001b[0;34m(\u001b[0m\u001b[0;36m0\u001b[0m\u001b[0;34m,\u001b[0m\u001b[0mlen\u001b[0m\u001b[0;34m(\u001b[0m\u001b[0mv\u001b[0m\u001b[0;34m)\u001b[0m\u001b[0;34m+\u001b[0m\u001b[0;36m1\u001b[0m\u001b[0;34m)\u001b[0m\u001b[0;34m)\u001b[0m\u001b[0;34m:\u001b[0m\u001b[0;34m\u001b[0m\u001b[0;34m\u001b[0m\u001b[0m\n\u001b[1;32m     18\u001b[0m     \u001b[0;32mfor\u001b[0m \u001b[0mj\u001b[0m \u001b[0;32min\u001b[0m \u001b[0mrange\u001b[0m\u001b[0;34m(\u001b[0m\u001b[0;36m0\u001b[0m\u001b[0;34m,\u001b[0m\u001b[0mrequire\u001b[0m\u001b[0;34m+\u001b[0m\u001b[0mmax_ele\u001b[0m\u001b[0;34m)\u001b[0m\u001b[0;34m:\u001b[0m\u001b[0;34m\u001b[0m\u001b[0;34m\u001b[0m\u001b[0m\n",
            "\u001b[0;32m<ipython-input-6-d9d1d5a2a2cc>\u001b[0m in \u001b[0;36m<listcomp>\u001b[0;34m(.0)\u001b[0m\n\u001b[1;32m     14\u001b[0m \u001b[0;32mdef\u001b[0m \u001b[0mf\u001b[0m\u001b[0;34m(\u001b[0m\u001b[0mv\u001b[0m\u001b[0;34m,\u001b[0m\u001b[0mrequire\u001b[0m\u001b[0;34m,\u001b[0m\u001b[0mmemoi\u001b[0m\u001b[0;34m)\u001b[0m\u001b[0;34m:\u001b[0m\u001b[0;34m\u001b[0m\u001b[0;34m\u001b[0m\u001b[0m\n\u001b[1;32m     15\u001b[0m   \u001b[0mmax_ele\u001b[0m\u001b[0;34m=\u001b[0m\u001b[0mmax\u001b[0m\u001b[0;34m(\u001b[0m\u001b[0mv\u001b[0m\u001b[0;34m)\u001b[0m\u001b[0;34m\u001b[0m\u001b[0;34m\u001b[0m\u001b[0m\n\u001b[0;32m---> 16\u001b[0;31m   \u001b[0mmemoi\u001b[0m\u001b[0;34m=\u001b[0m\u001b[0;34m[\u001b[0m\u001b[0;34m[\u001b[0m\u001b[0mtuple\u001b[0m\u001b[0;34m(\u001b[0m\u001b[0;36m0\u001b[0m\u001b[0;34m,\u001b[0m\u001b[0;34m[\u001b[0m\u001b[0;34m]\u001b[0m\u001b[0;34m)\u001b[0m \u001b[0;32mfor\u001b[0m \u001b[0mx\u001b[0m \u001b[0;32min\u001b[0m \u001b[0mrange\u001b[0m\u001b[0;34m(\u001b[0m\u001b[0mrequire\u001b[0m\u001b[0;34m+\u001b[0m\u001b[0mmax_ele\u001b[0m\u001b[0;34m)\u001b[0m\u001b[0;34m]\u001b[0m \u001b[0;32mfor\u001b[0m \u001b[0mx\u001b[0m \u001b[0;32min\u001b[0m \u001b[0mrange\u001b[0m\u001b[0;34m(\u001b[0m\u001b[0;36m2\u001b[0m\u001b[0;34m)\u001b[0m\u001b[0;34m]\u001b[0m\u001b[0;34m\u001b[0m\u001b[0;34m\u001b[0m\u001b[0m\n\u001b[0m\u001b[1;32m     17\u001b[0m   \u001b[0;32mfor\u001b[0m \u001b[0mi\u001b[0m \u001b[0;32min\u001b[0m \u001b[0mreversed\u001b[0m\u001b[0;34m(\u001b[0m\u001b[0mrange\u001b[0m\u001b[0;34m(\u001b[0m\u001b[0;36m0\u001b[0m\u001b[0;34m,\u001b[0m\u001b[0mlen\u001b[0m\u001b[0;34m(\u001b[0m\u001b[0mv\u001b[0m\u001b[0;34m)\u001b[0m\u001b[0;34m+\u001b[0m\u001b[0;36m1\u001b[0m\u001b[0;34m)\u001b[0m\u001b[0;34m)\u001b[0m\u001b[0;34m:\u001b[0m\u001b[0;34m\u001b[0m\u001b[0;34m\u001b[0m\u001b[0m\n\u001b[1;32m     18\u001b[0m     \u001b[0;32mfor\u001b[0m \u001b[0mj\u001b[0m \u001b[0;32min\u001b[0m \u001b[0mrange\u001b[0m\u001b[0;34m(\u001b[0m\u001b[0;36m0\u001b[0m\u001b[0;34m,\u001b[0m\u001b[0mrequire\u001b[0m\u001b[0;34m+\u001b[0m\u001b[0mmax_ele\u001b[0m\u001b[0;34m)\u001b[0m\u001b[0;34m:\u001b[0m\u001b[0;34m\u001b[0m\u001b[0;34m\u001b[0m\u001b[0m\n",
            "\u001b[0;32m<ipython-input-6-d9d1d5a2a2cc>\u001b[0m in \u001b[0;36m<listcomp>\u001b[0;34m(.0)\u001b[0m\n\u001b[1;32m     14\u001b[0m \u001b[0;32mdef\u001b[0m \u001b[0mf\u001b[0m\u001b[0;34m(\u001b[0m\u001b[0mv\u001b[0m\u001b[0;34m,\u001b[0m\u001b[0mrequire\u001b[0m\u001b[0;34m,\u001b[0m\u001b[0mmemoi\u001b[0m\u001b[0;34m)\u001b[0m\u001b[0;34m:\u001b[0m\u001b[0;34m\u001b[0m\u001b[0;34m\u001b[0m\u001b[0m\n\u001b[1;32m     15\u001b[0m   \u001b[0mmax_ele\u001b[0m\u001b[0;34m=\u001b[0m\u001b[0mmax\u001b[0m\u001b[0;34m(\u001b[0m\u001b[0mv\u001b[0m\u001b[0;34m)\u001b[0m\u001b[0;34m\u001b[0m\u001b[0;34m\u001b[0m\u001b[0m\n\u001b[0;32m---> 16\u001b[0;31m   \u001b[0mmemoi\u001b[0m\u001b[0;34m=\u001b[0m\u001b[0;34m[\u001b[0m\u001b[0;34m[\u001b[0m\u001b[0mtuple\u001b[0m\u001b[0;34m(\u001b[0m\u001b[0;36m0\u001b[0m\u001b[0;34m,\u001b[0m\u001b[0;34m[\u001b[0m\u001b[0;34m]\u001b[0m\u001b[0;34m)\u001b[0m \u001b[0;32mfor\u001b[0m \u001b[0mx\u001b[0m \u001b[0;32min\u001b[0m \u001b[0mrange\u001b[0m\u001b[0;34m(\u001b[0m\u001b[0mrequire\u001b[0m\u001b[0;34m+\u001b[0m\u001b[0mmax_ele\u001b[0m\u001b[0;34m)\u001b[0m\u001b[0;34m]\u001b[0m \u001b[0;32mfor\u001b[0m \u001b[0mx\u001b[0m \u001b[0;32min\u001b[0m \u001b[0mrange\u001b[0m\u001b[0;34m(\u001b[0m\u001b[0;36m2\u001b[0m\u001b[0;34m)\u001b[0m\u001b[0;34m]\u001b[0m\u001b[0;34m\u001b[0m\u001b[0;34m\u001b[0m\u001b[0m\n\u001b[0m\u001b[1;32m     17\u001b[0m   \u001b[0;32mfor\u001b[0m \u001b[0mi\u001b[0m \u001b[0;32min\u001b[0m \u001b[0mreversed\u001b[0m\u001b[0;34m(\u001b[0m\u001b[0mrange\u001b[0m\u001b[0;34m(\u001b[0m\u001b[0;36m0\u001b[0m\u001b[0;34m,\u001b[0m\u001b[0mlen\u001b[0m\u001b[0;34m(\u001b[0m\u001b[0mv\u001b[0m\u001b[0;34m)\u001b[0m\u001b[0;34m+\u001b[0m\u001b[0;36m1\u001b[0m\u001b[0;34m)\u001b[0m\u001b[0;34m)\u001b[0m\u001b[0;34m:\u001b[0m\u001b[0;34m\u001b[0m\u001b[0;34m\u001b[0m\u001b[0m\n\u001b[1;32m     18\u001b[0m     \u001b[0;32mfor\u001b[0m \u001b[0mj\u001b[0m \u001b[0;32min\u001b[0m \u001b[0mrange\u001b[0m\u001b[0;34m(\u001b[0m\u001b[0;36m0\u001b[0m\u001b[0;34m,\u001b[0m\u001b[0mrequire\u001b[0m\u001b[0;34m+\u001b[0m\u001b[0mmax_ele\u001b[0m\u001b[0;34m)\u001b[0m\u001b[0;34m:\u001b[0m\u001b[0;34m\u001b[0m\u001b[0;34m\u001b[0m\u001b[0m\n",
            "\u001b[0;31mTypeError\u001b[0m: tuple() takes at most 1 argument (2 given)"
          ]
        }
      ]
    },
    {
      "cell_type": "code",
      "metadata": {
        "id": "yHRsHGOv4-CS",
        "colab": {
          "base_uri": "https://localhost:8080/"
        },
        "outputId": "91cd7e6d-bac0-48b6-bd53-75a081e3e257"
      },
      "source": [
        "n=int(input())\r\n",
        "states=[]\r\n",
        "electoral_colleges=[]\r\n",
        "voters=[]\r\n",
        "inf=float(\"inf\")\r\n",
        "#memoi=dict()\r\n",
        "for i in range(n):\r\n",
        "    state_name,electoral_num,voter_num=map(str, input().split())\r\n",
        "    states.append(state_name)\r\n",
        "    electoral_colleges.append(int(electoral_num))\r\n",
        "    voters.append(int(voter_num))\r\n",
        "def assign_tup_tup(x,y):\r\n",
        "    temp_x=list(x)\r\n",
        "    temp_x[0]=y[0]\r\n",
        "    temp_x[1]=y[1].copy()\r\n",
        "    return tuple(temp_x)\r\n",
        "def f(v,require,memoi):\r\n",
        "  min,vt=inf,require\r\n",
        "  memoi=[[(0,[]) for x in range(require+max_ele)] for x in range(2)]\r\n",
        "  for i in reversed(range(0,len(v)+1)):\r\n",
        "    for j in range(0,require+2):\r\n",
        "       if j==0: memoi[i%2][j]=(0,[])\r\n",
        "       elif (i==n): memoi[i%2][j]=(inf,[])\r\n",
        "       else:\r\n",
        "         win=memoi[(i+1)%2][j-v[i]]\r\n",
        "         win_tup=list(win)\r\n",
        "         win_tup[0]+= voters[i]//2+1\r\n",
        "         win_tup[1]+=[i]\r\n",
        "         win=tuple(win_tup)\r\n",
        "         lose=memoi[(i+1)%2][j]\r\n",
        "         if (win[0]<lose[0]): memoi[i%2][j]=assign_tup_tup(memoi[i%2][j],win)\r\n",
        "         else: memoi[i%2][j]=assign_tup_tup(memoi[i%2][j],lose)\r\n",
        "         if (i==0) and (j>=require) and (min>memoi[i%2][j][0]):min,vt=memoi[i%2][j][0],j\r\n",
        "  for i in memoi[0][vt][1]:\r\n",
        "    print(states[i],end=\"\\n\")\r\n",
        "min_temp=inf\r\n",
        "max_ele=max(electoral_colleges)\r\n",
        "require=sum(electoral_colleges)//2+1\r\n",
        "f(electoral_colleges,require,memoi)\r\n",
        " "
      ],
      "execution_count": 53,
      "outputs": [
        {
          "output_type": "stream",
          "text": [
            "5\n",
            "AL 5 18618\n",
            "CT 8 19378\n",
            "DE 3 13944\n",
            "GA 9 20004\n",
            "IL 3 14222\n",
            "GA\n",
            "CT\n"
          ],
          "name": "stdout"
        }
      ]
    }
  ]
}