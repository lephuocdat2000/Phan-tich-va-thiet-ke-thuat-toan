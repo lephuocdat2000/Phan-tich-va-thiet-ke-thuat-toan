{
  "nbformat": 4,
  "nbformat_minor": 0,
  "metadata": {
    "colab": {
      "name": "Untitled108.ipynb",
      "provenance": [],
      "authorship_tag": "ABX9TyOn2e1I1IX5muECNGx9wsIp",
      "include_colab_link": true
    },
    "kernelspec": {
      "name": "python3",
      "display_name": "Python 3"
    }
  },
  "cells": [
    {
      "cell_type": "markdown",
      "metadata": {
        "id": "view-in-github",
        "colab_type": "text"
      },
      "source": [
        "<a href=\"https://colab.research.google.com/github/lephuocdat2000/Phan-tich-va-thiet-ke-thuat-toan/blob/main/Baucutongthong.ipynb\" target=\"_parent\"><img src=\"https://colab.research.google.com/assets/colab-badge.svg\" alt=\"Open In Colab\"/></a>"
      ]
    },
    {
      "cell_type": "code",
      "metadata": {
        "colab": {
          "base_uri": "https://localhost:8080/"
        },
        "id": "LXXX6Dtahg9S",
        "outputId": "cde67bfa-fb9e-4feb-b4b6-fbf0253acc33"
      },
      "source": [
        "n=int(input())\r\n",
        "states=[]\r\n",
        "electoral_colleges=[]\r\n",
        "voters=[]\r\n",
        "inf=float(\"inf\")\r\n",
        "#memoi=dict()\r\n",
        "\r\n",
        "for i in range(n):\r\n",
        "    state_name,electoral_num,voter_num=map(str, input().split())\r\n",
        "    states.append(state_name)\r\n",
        "    electoral_colleges.append(int(electoral_num))\r\n",
        "    voters.append(int(voter_num))\r\n",
        "\r\n",
        "def f(v,require,memoi):\r\n",
        "  max_ele=max(v)\r\n",
        "  memoi=[[0 for x in range(require+max_ele)] for x in range(2)]\r\n",
        "  for i in reversed(range(0,len(v)+1)):\r\n",
        "    for j in range(0,require+max_ele):\r\n",
        "       if j==0: memoi[i%2][j]=0\r\n",
        "       elif (i==n): memoi[i%2][j]=inf\r\n",
        "       else:\r\n",
        "         win=memoi[(i+1)%2][j-v[i]] + voters[i]//2+1\r\n",
        "         lose=memoi[(i+1)%2][j] \r\n",
        "         memoi[i%2][j]=min(win,lose)\r\n",
        "  return min(memoi[0][sum(electoral_colleges)//2+1:])\r\n",
        "if n<=0: min_temp=0\r\n",
        "else:\r\n",
        "  min_temp=inf\r\n",
        "  max_ele=max(electoral_colleges)\r\n",
        "  require=sum(electoral_colleges)//2+4\r\n",
        "  memoi=[[0 for x in range(require+max_ele)] for x in range(2)]\r\n",
        "  print(f(electoral_colleges,require,memoi))\r\n",
        " \r\n"
      ],
      "execution_count": null,
      "outputs": [
        {
          "output_type": "stream",
          "text": [
            "5\n",
            "AL 5 18618\n",
            "CT 8 19378\n",
            "DE 3 13944\n",
            "GA 9 20004\n",
            "IL 3 14222\n",
            "19693\n"
          ],
          "name": "stdout"
        }
      ]
    },
    {
      "cell_type": "markdown",
      "metadata": {
        "id": "FoXriwgdd1JG"
      },
      "source": [
        "Traceback"
      ]
    },
    {
      "cell_type": "code",
      "metadata": {
        "id": "coIhLhn1d2iN",
        "colab": {
          "base_uri": "https://localhost:8080/"
        },
        "outputId": "685fd137-a248-4a8e-d60b-3bff7e7a3345"
      },
      "source": [
        "n=int(input())\r\n",
        "states=[]\r\n",
        "electoral_colleges=[]\r\n",
        "voters=[]\r\n",
        "inf=float(\"inf\")\r\n",
        "#memoi=dict()\r\n",
        "\r\n",
        "for i in range(n):\r\n",
        "    state_name,electoral_num,voter_num=map(str, input().split())\r\n",
        "    states.append(state_name)\r\n",
        "    electoral_colleges.append(int(electoral_num))\r\n",
        "    voters.append(int(voter_num))\r\n",
        "\r\n",
        "def f(v,require,memoi):\r\n",
        "  max_ele=max(v)\r\n",
        "  memoi=[[(0,[]) for x in range(require+max_ele)] for x in range(2)]\r\n",
        "  for i in reversed(range(0,len(v)+1)):\r\n",
        "    for j in range(0,require+max_ele):\r\n",
        "       if j==0: memoi[i%2][j]=(0,[None])\r\n",
        "       elif (i==n): memoi[i%2][j]=(inf,[None])\r\n",
        "       else:\r\n",
        "         win=memoi[(i+1)%2][j-v[i]] \r\n",
        "         tup_win=list(win).copy()\r\n",
        "         tup_win[0]+= voters[i]//2+1\r\n",
        "         tup_win[1]+=[i]\r\n",
        "         win=tuple(tup_win)\r\n",
        "         lose=memoi[(i+1)%2][j] \r\n",
        "         if (win[0]<lose[0]): memoi[i%2][j]=win\r\n",
        "         else: memoi[i%2][j]=lose\r\n",
        "         print(i,j,memoi[i%2][j])\r\n",
        "  # min_value=min(memoi[0][sum(electoral_colleges)//2+1:][0])\r\n",
        "  # for i in memoi[0][sum(electoral_colleges)//2+1:]:\r\n",
        "  #    if i[0]==min_value: print(i[1],end=\"\")\r\n",
        "  return memoi\r\n",
        "if n<=0: min_temp=0\r\n",
        "else:\r\n",
        "  min_temp=inf\r\n",
        "  max_ele=max(electoral_colleges)\r\n",
        "  require=sum(electoral_colleges)//2+4\r\n",
        "  memoi=[[0 for x in range(require+max_ele)] for x in range(2)]\r\n",
        "  print(f(electoral_colleges,require,memoi))\r\n",
        " \r\n"
      ],
      "execution_count": 27,
      "outputs": [
        {
          "output_type": "stream",
          "text": [
            "5\n",
            "AL 5 18618\n",
            "CT 8 19378\n",
            "DE 3 13944\n",
            "GA 9 20004\n",
            "IL 3 14222\n",
            "4 1 (inf, [None])\n",
            "4 2 (inf, [None])\n",
            "4 3 (7112, [None, 4])\n",
            "4 4 (inf, [None])\n",
            "4 5 (inf, [None])\n",
            "4 6 (inf, [None])\n",
            "4 7 (inf, [None])\n",
            "4 8 (inf, [None])\n",
            "4 9 (inf, [None])\n",
            "4 10 (inf, [None])\n",
            "4 11 (inf, [None])\n",
            "4 12 (inf, [None])\n",
            "4 13 (inf, [None])\n",
            "4 14 (inf, [None])\n",
            "4 15 (inf, [None])\n",
            "4 16 (inf, [None])\n",
            "4 17 (inf, [None])\n",
            "4 18 (inf, [None])\n",
            "4 19 (inf, [None])\n",
            "4 20 (inf, [None])\n",
            "4 21 (inf, [None])\n",
            "4 22 (inf, [None])\n",
            "4 23 (inf, [None])\n",
            "4 24 (inf, [None])\n",
            "4 25 (inf, [None, 4])\n",
            "4 26 (inf, [None, 4])\n",
            "3 1 (inf, [None, 4])\n",
            "3 2 (inf, [None, 4])\n",
            "3 3 (7112, [None, 4])\n",
            "3 4 (inf, [None, 4])\n",
            "3 5 (inf, [None, 4])\n",
            "3 6 (inf, [None, 4])\n",
            "3 7 (inf, [None, 4])\n",
            "3 8 (inf, [None, 4])\n",
            "3 9 (10003, [None, 3])\n",
            "3 10 (inf, [None, 4])\n",
            "3 11 (inf, [None, 4])\n",
            "3 12 (17115, [None, 4, 3])\n",
            "3 13 (inf, [None, 4])\n",
            "3 14 (inf, [None, 4])\n",
            "3 15 (inf, [None, 4])\n",
            "3 16 (inf, [None, 4])\n",
            "3 17 (inf, [None, 4])\n",
            "3 18 (inf, [None, 4])\n",
            "3 19 (inf, [None, 4, 3])\n",
            "3 20 (inf, [None, 4, 3])\n",
            "3 21 (inf, [None, 4, 3])\n",
            "3 22 (inf, [None, 4, 3])\n",
            "3 23 (inf, [None, 4, 3])\n",
            "3 24 (inf, [None, 3])\n",
            "3 25 (inf, [None, 4, 3])\n",
            "3 26 (inf, [None, 4, 3])\n",
            "2 1 (inf, [None, 4, 3])\n",
            "2 2 (inf, [None, 4, 3])\n",
            "2 3 (6973, [None, 2])\n",
            "2 4 (inf, [None, 4, 3])\n",
            "2 5 (inf, [None, 4, 3])\n",
            "2 6 (14085, [None, 4, 3, 2])\n",
            "2 7 (inf, [None, 4, 3])\n",
            "2 8 (inf, [None, 4, 3])\n",
            "2 9 (10003, [None, 3])\n",
            "2 10 (inf, [None, 4, 3])\n",
            "2 11 (inf, [None, 4, 3])\n",
            "2 12 (16976, [None, 3, 2])\n",
            "2 13 (inf, [None, 4, 3])\n",
            "2 14 (inf, [None, 4, 3])\n",
            "2 15 (24088, [None, 4, 3, 2, 2])\n",
            "2 16 (inf, [None, 4, 3])\n",
            "2 17 (inf, [None, 4, 3])\n",
            "2 18 (inf, [None, 4])\n",
            "2 19 (inf, [None, 4, 3])\n",
            "2 20 (inf, [None, 4, 3])\n",
            "2 21 (inf, [None, 4, 3])\n",
            "2 22 (inf, [None, 4, 3])\n",
            "2 23 (inf, [None, 4, 3])\n",
            "2 24 (inf, [None, 3])\n",
            "2 25 (inf, [None, 4, 3, 2])\n",
            "2 26 (inf, [None, 4, 3, 2])\n",
            "1 1 (inf, [None, 4, 3, 2])\n",
            "1 2 (inf, [None, 4, 3, 2])\n",
            "1 3 (6973, [None, 2])\n",
            "1 4 (inf, [None, 4, 3, 2])\n",
            "1 5 (inf, [None, 4, 3, 2])\n",
            "1 6 (14085, [None, 4, 3, 2, 2])\n",
            "1 7 (inf, [None, 4, 3, 2])\n",
            "1 8 (9690, [None, 1])\n",
            "1 9 (10003, [None, 3, 2])\n",
            "1 10 (inf, [None, 4, 3, 2])\n",
            "1 11 (16663, [None, 2, 1])\n",
            "1 12 (16976, [None, 3, 2])\n",
            "1 13 (inf, [None, 4, 3, 2])\n",
            "1 14 (23775, [None, 4, 3, 2, 2, 1])\n",
            "1 15 (24088, [None, 4, 3, 2, 2, 1])\n",
            "1 16 (inf, [None, 4, 3, 2])\n",
            "1 17 (19693, [None, 3, 2, 1])\n",
            "1 18 (inf, [None, 4, 2])\n",
            "1 19 (inf, [None, 4, 3, 2])\n",
            "1 20 (26666, [None, 3, 2, 1, 1])\n",
            "1 21 (inf, [None, 4, 3, 2, 1])\n",
            "1 22 (inf, [None, 4, 3, 2, 1])\n",
            "1 23 (33778, [None, 4, 3, 2, 2, 1, 1])\n",
            "1 24 (inf, [None, 3, 1])\n",
            "1 25 (inf, [None, 4, 3, 2, 1])\n",
            "1 26 (inf, [None, 4, 3, 2, 1])\n",
            "0 1 (43088, [None, 4, 3, 2, 2, 1, 1, 0])\n",
            "0 2 (inf, [None, 4, 3, 2, 1])\n",
            "0 3 (6973, [None, 2, 1])\n",
            "0 4 (inf, [None, 4, 3, 2, 1])\n",
            "0 5 (9310, [None, 0])\n",
            "0 6 (14085, [None, 4, 3, 2, 2, 1, 1, 0])\n",
            "0 7 (inf, [None, 4, 3, 2, 1])\n",
            "0 8 (9690, [None, 1])\n",
            "0 9 (10003, [None, 3, 2, 1, 1])\n",
            "0 10 (inf, [None, 4, 3, 2, 1])\n",
            "0 11 (16663, [None, 2, 1, 0])\n",
            "0 12 (16976, [None, 3, 2, 1, 1])\n",
            "0 13 (19000, [None, 1, 0])\n",
            "0 14 (19313, [None, 3, 2, 1, 1, 0])\n",
            "0 15 (24088, [None, 4, 3, 2, 2, 1, 1, 0, 0])\n",
            "0 16 (25973, [None, 2, 1, 0, 0])\n",
            "0 17 (19693, [None, 3, 2, 1, 1, 0, 0])\n",
            "0 18 (inf, [None, 4, 2, 1])\n",
            "0 19 (33085, [None, 4, 3, 2, 2, 1, 1, 0, 0, 0])\n",
            "0 20 (26666, [None, 3, 2, 1, 1, 0, 0])\n",
            "0 21 (inf, [None, 4, 3, 2, 1])\n",
            "0 22 (29003, [None, 3, 2, 1, 1, 0, 0, 0])\n",
            "0 23 (33778, [None, 4, 3, 2, 2, 1, 1, 0, 0, 0, 0])\n",
            "0 24 (inf, [None, 3, 1, 0])\n",
            "0 25 (35976, [None, 3, 2, 1, 1, 0, 0, 0, 0])\n",
            "0 26 (inf, [None, 4, 3, 2, 1, 0])\n",
            "[[(0, [None]), (43088, [None, 4, 3, 2, 2, 1, 1, 0, 0, 0, 0]), (inf, [None, 4, 3, 2, 1, 0]), (6973, [None, 2, 1, 0, 0]), (inf, [None, 4, 3, 2, 1, 0]), (9310, [None, 0]), (14085, [None, 4, 3, 2, 2, 1, 1, 0, 0, 0, 0]), (inf, [None, 4, 3, 2, 1, 0]), (9690, [None, 1, 0]), (10003, [None, 3, 2, 1, 1, 0, 0, 0, 0]), (inf, [None, 4, 3, 2, 1, 0]), (16663, [None, 2, 1, 0, 0]), (16976, [None, 3, 2, 1, 1, 0, 0, 0, 0]), (19000, [None, 1, 0]), (19313, [None, 3, 2, 1, 1, 0, 0, 0, 0]), (24088, [None, 4, 3, 2, 2, 1, 1, 0, 0, 0, 0]), (25973, [None, 2, 1, 0, 0]), (19693, [None, 3, 2, 1, 1, 0, 0, 0, 0]), (inf, [None, 4, 2, 1, 0]), (33085, [None, 4, 3, 2, 2, 1, 1, 0, 0, 0, 0]), (26666, [None, 3, 2, 1, 1, 0, 0, 0, 0]), (inf, [None, 4, 3, 2, 1, 0]), (29003, [None, 3, 2, 1, 1, 0, 0, 0, 0]), (33778, [None, 4, 3, 2, 2, 1, 1, 0, 0, 0, 0]), (inf, [None, 3, 1, 0]), (35976, [None, 3, 2, 1, 1, 0, 0, 0, 0]), (inf, [None, 4, 3, 2, 1, 0])], [(0, [None, 0]), (inf, [None, 4, 3, 2, 1, 0]), (inf, [None, 4, 3, 2, 1, 0]), (6973, [None, 2, 1, 0, 0]), (inf, [None, 4, 3, 2, 1, 0]), (inf, [None, 4, 3, 2, 1, 0]), (14085, [None, 4, 3, 2, 2, 1, 1, 0, 0, 0, 0]), (inf, [None, 4, 3, 2, 1, 0]), (9690, [None, 1, 0]), (10003, [None, 3, 2, 1, 1, 0, 0, 0, 0]), (inf, [None, 4, 3, 2, 1, 0]), (16663, [None, 2, 1, 0, 0]), (16976, [None, 3, 2, 1, 1, 0, 0, 0, 0]), (inf, [None, 4, 3, 2, 1, 0]), (23775, [None, 4, 3, 2, 2, 1, 1, 0, 0, 0, 0]), (24088, [None, 4, 3, 2, 2, 1, 1, 0, 0, 0, 0]), (inf, [None, 4, 3, 2, 1, 0]), (19693, [None, 3, 2, 1, 1, 0, 0, 0, 0]), (inf, [None, 4, 2, 1, 0]), (inf, [None, 4, 3, 2, 0]), (26666, [None, 3, 2, 1, 1, 0, 0, 0, 0]), (inf, [None, 4, 3, 2, 1, 0]), (inf, [None, 4, 3, 2, 1]), (33778, [None, 4, 3, 2, 2, 1, 1, 0, 0, 0, 0]), (inf, [None, 3, 1, 0]), (inf, [None, 4, 3, 2, 1, 0]), (inf, [None, 4, 3, 2, 1, 0])]]\n"
          ],
          "name": "stdout"
        }
      ]
    },
    {
      "cell_type": "code",
      "metadata": {
        "id": "ghE4Ccj1sixB",
        "outputId": "ba3922e5-65a3-41a6-8ab3-d4a6cb7aa161",
        "colab": {
          "base_uri": "https://localhost:8080/",
          "height": 178
        }
      },
      "source": [
        "a=[1,[]]\r\n",
        "a[1][-1]"
      ],
      "execution_count": 19,
      "outputs": [
        {
          "output_type": "error",
          "ename": "IndexError",
          "evalue": "ignored",
          "traceback": [
            "\u001b[0;31m---------------------------------------------------------------------------\u001b[0m",
            "\u001b[0;31mIndexError\u001b[0m                                Traceback (most recent call last)",
            "\u001b[0;32m<ipython-input-19-5d6f71ec3bdb>\u001b[0m in \u001b[0;36m<module>\u001b[0;34m()\u001b[0m\n\u001b[1;32m      1\u001b[0m \u001b[0ma\u001b[0m\u001b[0;34m=\u001b[0m\u001b[0;34m[\u001b[0m\u001b[0;36m1\u001b[0m\u001b[0;34m,\u001b[0m\u001b[0;34m[\u001b[0m\u001b[0;34m]\u001b[0m\u001b[0;34m]\u001b[0m\u001b[0;34m\u001b[0m\u001b[0;34m\u001b[0m\u001b[0m\n\u001b[0;32m----> 2\u001b[0;31m \u001b[0ma\u001b[0m\u001b[0;34m[\u001b[0m\u001b[0;36m1\u001b[0m\u001b[0;34m]\u001b[0m\u001b[0;34m[\u001b[0m\u001b[0;34m-\u001b[0m\u001b[0;36m1\u001b[0m\u001b[0;34m]\u001b[0m\u001b[0;34m\u001b[0m\u001b[0;34m\u001b[0m\u001b[0m\n\u001b[0m",
            "\u001b[0;31mIndexError\u001b[0m: list index out of range"
          ]
        }
      ]
    }
  ]
}