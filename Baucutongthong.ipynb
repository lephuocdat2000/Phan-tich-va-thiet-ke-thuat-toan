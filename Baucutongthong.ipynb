{
  "nbformat": 4,
  "nbformat_minor": 0,
  "metadata": {
    "colab": {
      "name": "Untitled108.ipynb",
      "provenance": [],
      "authorship_tag": "ABX9TyOBOWiwyMh0wT5WTWfwhSKj",
      "include_colab_link": true
    },
    "kernelspec": {
      "name": "python3",
      "display_name": "Python 3"
    }
  },
  "cells": [
    {
      "cell_type": "markdown",
      "metadata": {
        "id": "view-in-github",
        "colab_type": "text"
      },
      "source": [
        "<a href=\"https://colab.research.google.com/github/lephuocdat2000/Phan-tich-va-thiet-ke-thuat-toan/blob/main/Baucutongthong.ipynb\" target=\"_parent\"><img src=\"https://colab.research.google.com/assets/colab-badge.svg\" alt=\"Open In Colab\"/></a>"
      ]
    },
    {
      "cell_type": "code",
      "metadata": {
        "colab": {
          "base_uri": "https://localhost:8080/"
        },
        "id": "LXXX6Dtahg9S",
        "outputId": "cde67bfa-fb9e-4feb-b4b6-fbf0253acc33"
      },
      "source": [
        "n=int(input())\r\n",
        "states=[]\r\n",
        "electoral_colleges=[]\r\n",
        "voters=[]\r\n",
        "inf=float(\"inf\")\r\n",
        "#memoi=dict()\r\n",
        "\r\n",
        "for i in range(n):\r\n",
        "    state_name,electoral_num,voter_num=map(str, input().split())\r\n",
        "    states.append(state_name)\r\n",
        "    electoral_colleges.append(int(electoral_num))\r\n",
        "    voters.append(int(voter_num))\r\n",
        "\r\n",
        "def f(v,require,memoi):\r\n",
        "  max_ele=max(v)\r\n",
        "  memoi=[[0 for x in range(require+max_ele)] for x in range(2)]\r\n",
        "  for i in reversed(range(0,len(v)+1)):\r\n",
        "    for j in range(0,require+max_ele):\r\n",
        "       if j==0: memoi[i%2][j]=0\r\n",
        "       elif (i==n): memoi[i%2][j]=inf\r\n",
        "       else:\r\n",
        "         win=memoi[(i+1)%2][j-v[i]] + voters[i]//2+1\r\n",
        "         lose=memoi[(i+1)%2][j] \r\n",
        "         memoi[i%2][j]=min(win,lose)\r\n",
        "  return min(memoi[0][sum(electoral_colleges)//2+1:])\r\n",
        "if n<=0: min_temp=0\r\n",
        "else:\r\n",
        "  min_temp=inf\r\n",
        "  max_ele=max(electoral_colleges)\r\n",
        "  require=sum(electoral_colleges)//2+4\r\n",
        "  memoi=[[0 for x in range(require+max_ele)] for x in range(2)]\r\n",
        "  print(f(electoral_colleges,require,memoi))\r\n",
        " \r\n"
      ],
      "execution_count": null,
      "outputs": [
        {
          "output_type": "stream",
          "text": [
            "5\n",
            "AL 5 18618\n",
            "CT 8 19378\n",
            "DE 3 13944\n",
            "GA 9 20004\n",
            "IL 3 14222\n",
            "19693\n"
          ],
          "name": "stdout"
        }
      ]
    },
    {
      "cell_type": "markdown",
      "metadata": {
        "id": "FoXriwgdd1JG"
      },
      "source": [
        "Traceback"
      ]
    },
    {
      "cell_type": "code",
      "metadata": {
        "id": "yHRsHGOv4-CS",
        "colab": {
          "base_uri": "https://localhost:8080/"
        },
        "outputId": "ee472f27-8163-40f0-86ef-e5c6701887e3"
      },
      "source": [
        "n=int(input())\r\n",
        "states=[]\r\n",
        "electoral_colleges=[]\r\n",
        "voters=[]\r\n",
        "inf=float(\"inf\")\r\n",
        "#memoi=dict()\r\n",
        "for i in range(n):\r\n",
        "    state_name,electoral_num,voter_num=map(str, input().split())\r\n",
        "    states.append(state_name)\r\n",
        "    electoral_colleges.append(int(electoral_num))\r\n",
        "    voters.append(int(voter_num))\r\n",
        "def assign_tup_tup(x,y):\r\n",
        "    temp_x=list(x)\r\n",
        "    temp_x[0]=y[0]\r\n",
        "    temp_x[1]=y[1].copy()\r\n",
        "    return tuple(temp_x)\r\n",
        "def f(v,require):\r\n",
        "  min,vt=inf,require\r\n",
        "  memoi=[[(0,[]) for x in range(require+max_ele)] for x in range(2)]\r\n",
        "  for i in reversed(range(0,len(v)+1)):\r\n",
        "    for j in range(0,require+1):\r\n",
        "       if j==0: memoi[i%2][j]=(0,[])\r\n",
        "       elif (i==n): memoi[i%2][j]=(inf,[])\r\n",
        "       else:\r\n",
        "         win=memoi[(i+1)%2][j-v[i]]\r\n",
        "         win_tup=list(win)\r\n",
        "         win_tup[0]+= voters[i]//2+1\r\n",
        "         win_tup[1]+=[i]\r\n",
        "         win=tuple(win_tup)\r\n",
        "         lose=memoi[(i+1)%2][j]\r\n",
        "         if (win[0]<lose[0]): memoi[i%2][j]=assign_tup_tup(memoi[i%2][j],win)\r\n",
        "         else: memoi[i%2][j]=assign_tup_tup(memoi[i%2][j],lose)\r\n",
        "         if (i==0) and (j>=require) and (min>memoi[i%2][j][0]):min,vt=memoi[i%2][j][0],j\r\n",
        "  for i in memoi[0][vt][1]:\r\n",
        "      print(states[i],end=\"\\n\")\r\n",
        "min_temp=inf\r\n",
        "max_ele=max(electoral_colleges)\r\n",
        "require=sum(electoral_colleges)//2+1\r\n",
        "f(electoral_colleges,require)\r\n"
      ],
      "execution_count": 10,
      "outputs": [
        {
          "output_type": "stream",
          "text": [
            "5\n",
            "AL 5 18618\n",
            "CT 8 19378\n",
            "DE 3 13944\n",
            "GA 9 20004\n",
            "IL 3 14222\n",
            "GA\n",
            "CT\n"
          ],
          "name": "stdout"
        }
      ]
    }
  ]
}