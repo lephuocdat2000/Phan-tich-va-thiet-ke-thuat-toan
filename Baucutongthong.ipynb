{
  "nbformat": 4,
  "nbformat_minor": 0,
  "metadata": {
    "colab": {
      "name": "Untitled100.ipynb",
      "provenance": [],
      "authorship_tag": "ABX9TyMX2FHoUGM0U9+BPYBgLV/W",
      "include_colab_link": true
    },
    "kernelspec": {
      "name": "python3",
      "display_name": "Python 3"
    }
  },
  "cells": [
    {
      "cell_type": "markdown",
      "metadata": {
        "id": "view-in-github",
        "colab_type": "text"
      },
      "source": [
        "<a href=\"https://colab.research.google.com/github/lephuocdat2000/Phan-tich-va-thiet-ke-thuat-toan/blob/main/Baucutongthong.ipynb\" target=\"_parent\"><img src=\"https://colab.research.google.com/assets/colab-badge.svg\" alt=\"Open In Colab\"/></a>"
      ]
    },
    {
      "cell_type": "code",
      "metadata": {
        "colab": {
          "base_uri": "https://localhost:8080/"
        },
        "id": "BEOHXL42YsLd",
        "outputId": "e243e7c5-ba67-4946-acf5-7a1448ad1a8c"
      },
      "source": [
        "n=int(input())\r\n",
        "states=[]\r\n",
        "electoral_colleges=[]\r\n",
        "voters=[]\r\n",
        "for i in range(n):\r\n",
        "    state_name,electoral_num,voter_num=map(str, input().split())\r\n",
        "    states.append(state_name)\r\n",
        "    electoral_colleges.append(int(electoral_num))\r\n",
        "    voters.append(int(voter_num))\r\n",
        "def f(v, i, S, memo):\r\n",
        "  if i >= len(v): return 1 if S == 0 else 0\r\n",
        "  if (i, S) not in memo:  # <-- Check if value has not been calculated.\r\n",
        "    count = f(v, i + 1, S, memo)\r\n",
        "    count += f(v, i + 1, S - v[i], memo)\r\n",
        "    memo[(i, S)] = count  # <-- Memoize calculated result.\r\n",
        "  return memo[(i, S)] \r\n",
        "def g(v, S, memo):\r\n",
        "  subset = []\r\n",
        "  for i, x in enumerate(v):\r\n",
        "    # Check if there is still a solution if we include v[i]\r\n",
        "    t=f(v, i + 1, S - x, memo)\r\n",
        "    if t > 0:\r\n",
        "      subset.append(x)\r\n",
        "      S -= x\r\n",
        "  return subset\r\n",
        "temp=[]\r\n",
        "memo=dict()\r\n",
        "sum_electoral_mid=sum(electoral_colleges)//2+1\r\n",
        "for i in range(sum_electoral_mid,sum(electoral_colleges)):\r\n",
        "  if f(electoral_colleges, 0, i, memo) == 0: print(\"There are no valid subsets.\")\r\n",
        "  else: temp.append(g(electoral_colleges, i, memo))"
      ],
      "execution_count": 7,
      "outputs": [
        {
          "output_type": "stream",
          "text": [
            "5\n",
            "AL 5 18618\n",
            "CT 8 19378\n",
            "DE 3 13944\n",
            "GA 9 20004\n",
            "IL 3 14222\n",
            "There are no valid subsets.\n",
            "There are no valid subsets.\n",
            "There are no valid subsets.\n",
            "There are no valid subsets.\n",
            "There are no valid subsets.\n"
          ],
          "name": "stdout"
        }
      ]
    },
    {
      "cell_type": "code",
      "metadata": {
        "colab": {
          "base_uri": "https://localhost:8080/"
        },
        "id": "uYNwhE3FdRKt",
        "outputId": "c80a8956-3202-4a85-9997-4c22778c0597"
      },
      "source": [
        "\r\n",
        "print(electoral_colleges)"
      ],
      "execution_count": 8,
      "outputs": [
        {
          "output_type": "stream",
          "text": [
            "[5, 8, 3, 9, 3]\n"
          ],
          "name": "stdout"
        }
      ]
    }
  ]
}