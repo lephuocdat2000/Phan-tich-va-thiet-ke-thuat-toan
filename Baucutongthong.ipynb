{
  "nbformat": 4,
  "nbformat_minor": 0,
  "metadata": {
    "colab": {
      "name": "Untitled108.ipynb",
      "provenance": [],
      "authorship_tag": "ABX9TyNFK9z1teIhz+PtbWrboQCU",
      "include_colab_link": true
    },
    "kernelspec": {
      "name": "python3",
      "display_name": "Python 3"
    }
  },
  "cells": [
    {
      "cell_type": "markdown",
      "metadata": {
        "id": "view-in-github",
        "colab_type": "text"
      },
      "source": [
        "<a href=\"https://colab.research.google.com/github/lephuocdat2000/Phan-tich-va-thiet-ke-thuat-toan/blob/main/Baucutongthong.ipynb\" target=\"_parent\"><img src=\"https://colab.research.google.com/assets/colab-badge.svg\" alt=\"Open In Colab\"/></a>"
      ]
    },
    {
      "cell_type": "code",
      "metadata": {
        "colab": {
          "base_uri": "https://localhost:8080/"
        },
        "id": "LXXX6Dtahg9S",
        "outputId": "cde67bfa-fb9e-4feb-b4b6-fbf0253acc33"
      },
      "source": [
        "n=int(input())\r\n",
        "states=[]\r\n",
        "electoral_colleges=[]\r\n",
        "voters=[]\r\n",
        "inf=float(\"inf\")\r\n",
        "#memoi=dict()\r\n",
        "\r\n",
        "for i in range(n):\r\n",
        "    state_name,electoral_num,voter_num=map(str, input().split())\r\n",
        "    states.append(state_name)\r\n",
        "    electoral_colleges.append(int(electoral_num))\r\n",
        "    voters.append(int(voter_num))\r\n",
        "\r\n",
        "def f(v,require,memoi):\r\n",
        "  max_ele=max(v)\r\n",
        "  memoi=[[0 for x in range(require+max_ele)] for x in range(2)]\r\n",
        "  for i in reversed(range(0,len(v)+1)):\r\n",
        "    for j in range(0,require+max_ele):\r\n",
        "       if j==0: memoi[i%2][j]=0\r\n",
        "       elif (i==n): memoi[i%2][j]=inf\r\n",
        "       else:\r\n",
        "         win=memoi[(i+1)%2][j-v[i]] + voters[i]//2+1\r\n",
        "         lose=memoi[(i+1)%2][j] \r\n",
        "         memoi[i%2][j]=min(win,lose)\r\n",
        "  return min(memoi[0][sum(electoral_colleges)//2+1:])\r\n",
        "if n<=0: min_temp=0\r\n",
        "else:\r\n",
        "  min_temp=inf\r\n",
        "  max_ele=max(electoral_colleges)\r\n",
        "  require=sum(electoral_colleges)//2+4\r\n",
        "  memoi=[[0 for x in range(require+max_ele)] for x in range(2)]\r\n",
        "  print(f(electoral_colleges,require,memoi))\r\n",
        " \r\n"
      ],
      "execution_count": 82,
      "outputs": [
        {
          "output_type": "stream",
          "text": [
            "5\n",
            "AL 5 18618\n",
            "CT 8 19378\n",
            "DE 3 13944\n",
            "GA 9 20004\n",
            "IL 3 14222\n",
            "19693\n"
          ],
          "name": "stdout"
        }
      ]
    },
    {
      "cell_type": "markdown",
      "metadata": {
        "id": "FoXriwgdd1JG"
      },
      "source": [
        "Traceback"
      ]
    },
    {
      "cell_type": "code",
      "metadata": {
        "id": "coIhLhn1d2iN",
        "outputId": "a96b3946-0439-47bb-e360-b80fd4106cdd",
        "colab": {
          "base_uri": "https://localhost:8080/"
        }
      },
      "source": [
        "n=int(input())\r\n",
        "states=[]\r\n",
        "electoral_colleges=[]\r\n",
        "voters=[]\r\n",
        "inf=float(\"inf\")\r\n",
        "#memoi=dict()\r\n",
        "\r\n",
        "for i in range(n):\r\n",
        "    state_name,electoral_num,voter_num=map(str, input().split())\r\n",
        "    states.append(state_name)\r\n",
        "    electoral_colleges.append(int(electoral_num))\r\n",
        "    voters.append(int(voter_num))\r\n",
        "\r\n",
        "def f(v,require,memoi):\r\n",
        "  max_ele=max(v)\r\n",
        "  memoi=[[(0,[]) for x in range(require+max_ele)] for x in range(2)]\r\n",
        "  for i in reversed(range(0,len(v)+1)):\r\n",
        "    for j in range(0,require+max_ele):\r\n",
        "       if j==0: memoi[i%2][j]=(0,[])\r\n",
        "       elif (i==n): memoi[i%2][j]=(inf,[None])\r\n",
        "       else:\r\n",
        "         win=memoi[(i+1)%2][j-v[i]] #+ voters[i]//2+1\r\n",
        "         win=list(win)\r\n",
        "         win[0]+= voters[i]//2+1\r\n",
        "         win[1]+= [i]\r\n",
        "         win=tuple(win)\r\n",
        "         lose=memoi[(i+1)%2][j] \r\n",
        "         if (win[0]<lose[0]): memoi[i%2][j]=win\r\n",
        "         else: memoi[i%2][j]=lose\r\n",
        "  # min_value=min(memoi[0][sum(electoral_colleges)//2+1:][0])\r\n",
        "  # for i in memoi[0][sum(electoral_colleges)//2+1:]:\r\n",
        "  #    if i[0]==min_value: print(i[1],end=\"\")\r\n",
        "  return memoi[0][sum(electoral_colleges)//2+1:]\r\n",
        "if n<=0: min_temp=0\r\n",
        "else:\r\n",
        "  min_temp=inf\r\n",
        "  max_ele=max(electoral_colleges)\r\n",
        "  require=sum(electoral_colleges)//2+4\r\n",
        "  memoi=[[0 for x in range(require+max_ele)] for x in range(2)]\r\n",
        "  print(f(electoral_colleges,require,memoi))\r\n",
        " \r\n"
      ],
      "execution_count": 88,
      "outputs": [
        {
          "output_type": "stream",
          "text": [
            "5\n",
            "AL 5 18618\n",
            "CT 8 19378\n",
            "DE 3 13944\n",
            "GA 9 20004\n",
            "IL 3 14222\n",
            "[(24088, [4, 3, 2, 2, 1, 1, 0, 0, 0, 0]), (25973, [2, 1, 0, 0]), (19693, [3, 2, 1, 1, 0, 0, 0, 0]), (inf, [None, 4, 2, 1, 0]), (33085, [4, 3, 2, 2, 1, 1, 0, 0, 0, 0]), (26666, [3, 2, 1, 1, 0, 0, 0, 0]), (inf, [None, 4, 3, 2, 1, 0]), (29003, [3, 2, 1, 1, 0, 0, 0, 0]), (33778, [4, 3, 2, 2, 1, 1, 0, 0, 0, 0]), (inf, [None, 3, 1, 0]), (35976, [3, 2, 1, 1, 0, 0, 0, 0]), (inf, [None, 4, 3, 2, 1, 0])]\n"
          ],
          "name": "stdout"
        }
      ]
    }
  ]
}