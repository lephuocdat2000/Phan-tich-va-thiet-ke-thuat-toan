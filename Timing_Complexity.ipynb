{
  "nbformat": 4,
  "nbformat_minor": 0,
  "metadata": {
    "colab": {
      "name": "Timing_Complexity.ipynb",
      "provenance": [],
      "authorship_tag": "ABX9TyOJVeezSg4UxsyuwVlTjU8F",
      "include_colab_link": true
    },
    "kernelspec": {
      "name": "python3",
      "display_name": "Python 3"
    }
  },
  "cells": [
    {
      "cell_type": "markdown",
      "metadata": {
        "id": "view-in-github",
        "colab_type": "text"
      },
      "source": [
        "<a href=\"https://colab.research.google.com/github/lephuocdat2000/-CS114.K21-/blob/master/Timing_Complexity.ipynb\" target=\"_parent\"><img src=\"https://colab.research.google.com/assets/colab-badge.svg\" alt=\"Open In Colab\"/></a>"
      ]
    },
    {
      "cell_type": "code",
      "metadata": {
        "id": "4WYDzODRVo4c",
        "colab_type": "code",
        "colab": {}
      },
      "source": [
        "import pandas as pd\n",
        "import numpy as np\n",
        "import seaborn as sns\n",
        "import matplotlib\n",
        "import matplotlib.pyplot as plt\n",
        "from pandas.plotting import scatter_matrix\n",
        "from matplotlib import pyplot \n",
        "from sklearn.model_selection import train_test_split\n",
        "from sklearn import preprocessing \n",
        "from sklearn.linear_model import LinearRegression\n",
        "from sklearn.preprocessing import PolynomialFeatures\n",
        "from sklearn.pipeline import Pipeline\n",
        "from sklearn.metrics import accuracy_score\n",
        "from sklearn.model_selection import GridSearchCV"
      ],
      "execution_count": 0,
      "outputs": []
    },
    {
      "cell_type": "code",
      "metadata": {
        "id": "AnK7e-ZQVdpS",
        "colab_type": "code",
        "outputId": "cb63485d-8a62-440e-f66d-583f96b9da89",
        "colab": {
          "base_uri": "https://localhost:8080/",
          "height": 201
        }
      },
      "source": [
        "!wget https://cs.uit.edu.vn/data.txt"
      ],
      "execution_count": 0,
      "outputs": [
        {
          "output_type": "stream",
          "text": [
            "--2020-06-10 07:41:32--  https://cs.uit.edu.vn/data.txt\n",
            "Resolving cs.uit.edu.vn (cs.uit.edu.vn)... 118.69.123.142\n",
            "Connecting to cs.uit.edu.vn (cs.uit.edu.vn)|118.69.123.142|:443... connected.\n",
            "HTTP request sent, awaiting response... 200 OK\n",
            "Length: 84410 (82K) [text/plain]\n",
            "Saving to: ‘data.txt’\n",
            "\n",
            "\rdata.txt              0%[                    ]       0  --.-KB/s               \rdata.txt            100%[===================>]  82.43K  --.-KB/s    in 0.04s   \n",
            "\n",
            "2020-06-10 07:41:32 (2.12 MB/s) - ‘data.txt’ saved [84410/84410]\n",
            "\n"
          ],
          "name": "stdout"
        }
      ]
    },
    {
      "cell_type": "code",
      "metadata": {
        "id": "Z-wcJQTGW1K6",
        "colab_type": "code",
        "outputId": "2c41e9d2-53ed-429c-ded4-804a3e907677",
        "colab": {
          "base_uri": "https://localhost:8080/",
          "height": 33
        }
      },
      "source": [
        "!ls"
      ],
      "execution_count": 0,
      "outputs": [
        {
          "output_type": "stream",
          "text": [
            "data.txt  sample_data\n"
          ],
          "name": "stdout"
        }
      ]
    },
    {
      "cell_type": "code",
      "metadata": {
        "id": "dw9jdl6bV9uG",
        "colab_type": "code",
        "outputId": "922e9978-07e6-4aca-96f5-4e0f3c3d5739",
        "colab": {
          "base_uri": "https://localhost:8080/",
          "height": 294
        }
      },
      "source": [
        "data=pd.read_csv('data.txt',header=None)\n",
        "data.columns=['Complexity','Timing']\n",
        "plt.scatter(data['Complexity'],data['Timing'])"
      ],
      "execution_count": 0,
      "outputs": [
        {
          "output_type": "execute_result",
          "data": {
            "text/plain": [
              "<matplotlib.collections.PathCollection at 0x7f23faabceb8>"
            ]
          },
          "metadata": {
            "tags": []
          },
          "execution_count": 93
        },
        {
          "output_type": "display_data",
          "data": {
            "image/png": "[encoded data removed]",
            "text/plain": [
              "<Figure size 432x288 with 1 Axes>"
            ]
          },
          "metadata": {
            "tags": [],
            "needs_background": "light"
          }
        }
      ]
    },
    {
      "cell_type": "code",
      "metadata": {
        "id": "_Pvida2BbQiV",
        "colab_type": "code",
        "outputId": "bd005be9-95bb-4ace-ae92-7bbeba109da5",
        "colab": {
          "base_uri": "https://localhost:8080/",
          "height": 404
        }
      },
      "source": [
        "data=data.assign(Square=np.power(data['Complexity'],2),Logarit=np.log2(data['Complexity'],where=(data['Complexity']!=0))*data['Complexity'])\n",
        "data=data[['Complexity','Square','Logarit','Timing']]\n",
        "data"
      ],
      "execution_count": 0,
      "outputs": [
        {
          "output_type": "execute_result",
          "data": {
            "text/html": [
              "<div>\n",
              "<style scoped>\n",
              "    .dataframe tbody tr th:only-of-type {\n",
              "        vertical-align: middle;\n",
              "    }\n",
              "\n",
              "    .dataframe tbody tr th {\n",
              "        vertical-align: top;\n",
              "    }\n",
              "\n",
              "    .dataframe thead th {\n",
              "        text-align: right;\n",
              "    }\n",
              "</style>\n",
              "<table border=\"1\" class=\"dataframe\">\n",
              "  <thead>\n",
              "    <tr style=\"text-align: right;\">\n",
              "      <th></th>\n",
              "      <th>Complexity</th>\n",
              "      <th>Square</th>\n",
              "      <th>Logarit</th>\n",
              "      <th>Timing</th>\n",
              "    </tr>\n",
              "  </thead>\n",
              "  <tbody>\n",
              "    <tr>\n",
              "      <th>0</th>\n",
              "      <td>4032139</td>\n",
              "      <td>16258144915321</td>\n",
              "      <td>8.847769e+07</td>\n",
              "      <td>1.200580</td>\n",
              "    </tr>\n",
              "    <tr>\n",
              "      <th>1</th>\n",
              "      <td>2055486</td>\n",
              "      <td>4225022696196</td>\n",
              "      <td>4.310570e+07</td>\n",
              "      <td>0.509774</td>\n",
              "    </tr>\n",
              "    <tr>\n",
              "      <th>2</th>\n",
              "      <td>5626651</td>\n",
              "      <td>31659201475801</td>\n",
              "      <td>1.261712e+08</td>\n",
              "      <td>1.476080</td>\n",
              "    </tr>\n",
              "    <tr>\n",
              "      <th>3</th>\n",
              "      <td>42065</td>\n",
              "      <td>1769464225</td>\n",
              "      <td>6.461324e+05</td>\n",
              "      <td>0.007651</td>\n",
              "    </tr>\n",
              "    <tr>\n",
              "      <th>4</th>\n",
              "      <td>6297788</td>\n",
              "      <td>39662133692944</td>\n",
              "      <td>1.422444e+08</td>\n",
              "      <td>1.661560</td>\n",
              "    </tr>\n",
              "    <tr>\n",
              "      <th>...</th>\n",
              "      <td>...</td>\n",
              "      <td>...</td>\n",
              "      <td>...</td>\n",
              "      <td>...</td>\n",
              "    </tr>\n",
              "    <tr>\n",
              "      <th>5206</th>\n",
              "      <td>6600098</td>\n",
              "      <td>43561293609604</td>\n",
              "      <td>1.495190e+08</td>\n",
              "      <td>1.804520</td>\n",
              "    </tr>\n",
              "    <tr>\n",
              "      <th>5207</th>\n",
              "      <td>5339132</td>\n",
              "      <td>28506330513424</td>\n",
              "      <td>1.193198e+08</td>\n",
              "      <td>1.450310</td>\n",
              "    </tr>\n",
              "    <tr>\n",
              "      <th>5208</th>\n",
              "      <td>4794647</td>\n",
              "      <td>22988639854609</td>\n",
              "      <td>1.064076e+08</td>\n",
              "      <td>1.293070</td>\n",
              "    </tr>\n",
              "    <tr>\n",
              "      <th>5209</th>\n",
              "      <td>4440131</td>\n",
              "      <td>19714763297161</td>\n",
              "      <td>9.804773e+07</td>\n",
              "      <td>1.196530</td>\n",
              "    </tr>\n",
              "    <tr>\n",
              "      <th>5210</th>\n",
              "      <td>2033708</td>\n",
              "      <td>4135968229264</td>\n",
              "      <td>4.261774e+07</td>\n",
              "      <td>0.517288</td>\n",
              "    </tr>\n",
              "  </tbody>\n",
              "</table>\n",
              "<p>5211 rows × 4 columns</p>\n",
              "</div>"
            ],
            "text/plain": [
              "      Complexity          Square       Logarit    Timing\n",
              "0        4032139  16258144915321  8.847769e+07  1.200580\n",
              "1        2055486   4225022696196  4.310570e+07  0.509774\n",
              "2        5626651  31659201475801  1.261712e+08  1.476080\n",
              "3          42065      1769464225  6.461324e+05  0.007651\n",
              "4        6297788  39662133692944  1.422444e+08  1.661560\n",
              "...          ...             ...           ...       ...\n",
              "5206     6600098  43561293609604  1.495190e+08  1.804520\n",
              "5207     5339132  28506330513424  1.193198e+08  1.450310\n",
              "5208     4794647  22988639854609  1.064076e+08  1.293070\n",
              "5209     4440131  19714763297161  9.804773e+07  1.196530\n",
              "5210     2033708   4135968229264  4.261774e+07  0.517288\n",
              "\n",
              "[5211 rows x 4 columns]"
            ]
          },
          "metadata": {
            "tags": []
          },
          "execution_count": 94
        }
      ]
    },
    {
      "cell_type": "code",
      "metadata": {
        "id": "FCwGwQ3lOzrb",
        "colab_type": "code",
        "outputId": "5adea888-ab80-45c7-d7ef-1dfd7b27472e",
        "colab": {
          "base_uri": "https://localhost:8080/",
          "height": 100
        }
      },
      "source": [
        "x=data[['Complexity','Square','Logarit']]\n",
        "y=data[['Timing']]\n",
        "X_train,X_test,y_train,y_test=train_test_split(x,y,test_size=0.2,random_state=1,)\n",
        "#check missingdata\n",
        "all_data_na=(data.isnull().sum())/len(data)*100\n",
        "all_data_na"
      ],
      "execution_count": 0,
      "outputs": [
        {
          "output_type": "execute_result",
          "data": {
            "text/plain": [
              "Complexity    0.0\n",
              "Square        0.0\n",
              "Logarit       0.0\n",
              "Timing        0.0\n",
              "dtype: float64"
            ]
          },
          "metadata": {
            "tags": []
          },
          "execution_count": 95
        }
      ]
    },
    {
      "cell_type": "code",
      "metadata": {
        "id": "xTdt42hh7HdG",
        "colab_type": "code",
        "outputId": "6aafe565-e5bd-4f55-fe26-5370866ae567",
        "colab": {
          "base_uri": "https://localhost:8080/",
          "height": 328
        }
      },
      "source": [
        "model=LinearRegression().fit(X_train.values,y_train.values)\n",
        "print(\"Slope: \",model.coef_)\n",
        "print(\"Intercept: \",model.intercept_)\n",
        "y_fit=model.predict(X_train.values)\n",
        "plt.scatter(X_train['Complexity'],y_train)\n",
        "plt.plot(X_train['Complexity'],y_fit,'go')\n"
      ],
      "execution_count": 0,
      "outputs": [
        {
          "output_type": "stream",
          "text": [
            "Slope:  [[ 1.12303082e-08 -6.56888747e-17  1.16440451e-08]]\n",
            "Intercept:  [0.00016453]\n"
          ],
          "name": "stdout"
        },
        {
          "output_type": "execute_result",
          "data": {
            "text/plain": [
              "[<matplotlib.lines.Line2D at 0x7f23fa7fb7f0>]"
            ]
          },
          "metadata": {
            "tags": []
          },
          "execution_count": 121
        },
        {
          "output_type": "display_data",
          "data": {
            "image/png": "[encoded data removed]",
            "text/plain": [
              "<Figure size 432x288 with 1 Axes>"
            ]
          },
          "metadata": {
            "tags": [],
            "needs_background": "light"
          }
        }
      ]
    },
    {
      "cell_type": "code",
      "metadata": {
        "id": "AskoVrjspp1o",
        "colab_type": "code",
        "outputId": "e15ccc9e-119f-4c6b-9861-439eba3c3afe",
        "colab": {
          "base_uri": "https://localhost:8080/",
          "height": 299
        }
      },
      "source": [
        "y_predict=model.predict(X_test.values)\n",
        "plt.scatter(X_test['Complexity'].values,y_test.values)\n",
        "plt.plot(X_test['Complexity'].values,y_predict,'go')"
      ],
      "execution_count": 0,
      "outputs": [
        {
          "output_type": "execute_result",
          "data": {
            "text/plain": [
              "[<matplotlib.lines.Line2D at 0x7f23fa918278>]"
            ]
          },
          "metadata": {
            "tags": []
          },
          "execution_count": 98
        },
        {
          "output_type": "display_data",
          "data": {
            "image/png": "[encoded data removed]",
            "text/plain": [
              "<Figure size 432x288 with 1 Axes>"
            ]
          },
          "metadata": {
            "tags": [],
            "needs_background": "light"
          }
        }
      ]
    },
    {
      "cell_type": "code",
      "metadata": {
        "id": "IFncBXUDtH6N",
        "colab_type": "code",
        "outputId": "bdc89842-d4dc-4ebb-fe6b-ceac717ed535",
        "colab": {
          "base_uri": "https://localhost:8080/",
          "height": 33
        }
      },
      "source": [
        "def Prediction(x,train=X_train,model=model):\n",
        "   squarex=np.power(x,2)\n",
        "   log2x=np.log2(x,where=(x!=0))*x\n",
        "   arr=np.array([[x,squarex,log2x]])\n",
        "   pred=model.predict(arr)\n",
        "   print(\"Thoi gian du tinh cua thuat toan voi do phuc tap \",x,\" la: \",pred[0][0])\n",
        "Prediction(4683236)"
      ],
      "execution_count": 0,
      "outputs": [
        {
          "output_type": "stream",
          "text": [
            "Thoi gian du tinh cua thuat toan voi do phuc tap  4683236  la:  1.2596924354680823\n"
          ],
          "name": "stdout"
        }
      ]
    },
    {
      "cell_type": "code",
      "metadata": {
        "id": "hx4SWWAUhOkv",
        "colab_type": "code",
        "outputId": "6c1a0a50-e80d-41a1-a9ee-fb92a4713dda",
        "colab": {
          "base_uri": "https://localhost:8080/",
          "height": 404
        }
      },
      "source": [
        "X_test"
      ],
      "execution_count": 0,
      "outputs": [
        {
          "output_type": "execute_result",
          "data": {
            "text/html": [
              "<div>\n",
              "<style scoped>\n",
              "    .dataframe tbody tr th:only-of-type {\n",
              "        vertical-align: middle;\n",
              "    }\n",
              "\n",
              "    .dataframe tbody tr th {\n",
              "        vertical-align: top;\n",
              "    }\n",
              "\n",
              "    .dataframe thead th {\n",
              "        text-align: right;\n",
              "    }\n",
              "</style>\n",
              "<table border=\"1\" class=\"dataframe\">\n",
              "  <thead>\n",
              "    <tr style=\"text-align: right;\">\n",
              "      <th></th>\n",
              "      <th>Complexity</th>\n",
              "      <th>Square</th>\n",
              "      <th>Logarit</th>\n",
              "    </tr>\n",
              "  </thead>\n",
              "  <tbody>\n",
              "    <tr>\n",
              "      <th>871</th>\n",
              "      <td>2843330</td>\n",
              "      <td>8084525488900</td>\n",
              "      <td>6.095858e+07</td>\n",
              "    </tr>\n",
              "    <tr>\n",
              "      <th>4347</th>\n",
              "      <td>9202601</td>\n",
              "      <td>84687865165201</td>\n",
              "      <td>2.128894e+08</td>\n",
              "    </tr>\n",
              "    <tr>\n",
              "      <th>1865</th>\n",
              "      <td>4683236</td>\n",
              "      <td>21932699431696</td>\n",
              "      <td>1.037762e+08</td>\n",
              "    </tr>\n",
              "    <tr>\n",
              "      <th>1518</th>\n",
              "      <td>3646190</td>\n",
              "      <td>13294701516100</td>\n",
              "      <td>7.947950e+07</td>\n",
              "    </tr>\n",
              "    <tr>\n",
              "      <th>3555</th>\n",
              "      <td>7238242</td>\n",
              "      <td>52392147250564</td>\n",
              "      <td>1.649393e+08</td>\n",
              "    </tr>\n",
              "    <tr>\n",
              "      <th>...</th>\n",
              "      <td>...</td>\n",
              "      <td>...</td>\n",
              "      <td>...</td>\n",
              "    </tr>\n",
              "    <tr>\n",
              "      <th>188</th>\n",
              "      <td>6623079</td>\n",
              "      <td>43865175440241</td>\n",
              "      <td>1.500728e+08</td>\n",
              "    </tr>\n",
              "    <tr>\n",
              "      <th>3168</th>\n",
              "      <td>6035393</td>\n",
              "      <td>36425968664449</td>\n",
              "      <td>1.359473e+08</td>\n",
              "    </tr>\n",
              "    <tr>\n",
              "      <th>2946</th>\n",
              "      <td>5636284</td>\n",
              "      <td>31767697328656</td>\n",
              "      <td>1.264011e+08</td>\n",
              "    </tr>\n",
              "    <tr>\n",
              "      <th>1533</th>\n",
              "      <td>734772</td>\n",
              "      <td>539889891984</td>\n",
              "      <td>1.431846e+07</td>\n",
              "    </tr>\n",
              "    <tr>\n",
              "      <th>685</th>\n",
              "      <td>2956725</td>\n",
              "      <td>8742222725625</td>\n",
              "      <td>6.355649e+07</td>\n",
              "    </tr>\n",
              "  </tbody>\n",
              "</table>\n",
              "<p>1043 rows × 3 columns</p>\n",
              "</div>"
            ],
            "text/plain": [
              "      Complexity          Square       Logarit\n",
              "871      2843330   8084525488900  6.095858e+07\n",
              "4347     9202601  84687865165201  2.128894e+08\n",
              "1865     4683236  21932699431696  1.037762e+08\n",
              "1518     3646190  13294701516100  7.947950e+07\n",
              "3555     7238242  52392147250564  1.649393e+08\n",
              "...          ...             ...           ...\n",
              "188      6623079  43865175440241  1.500728e+08\n",
              "3168     6035393  36425968664449  1.359473e+08\n",
              "2946     5636284  31767697328656  1.264011e+08\n",
              "1533      734772    539889891984  1.431846e+07\n",
              "685      2956725   8742222725625  6.355649e+07\n",
              "\n",
              "[1043 rows x 3 columns]"
            ]
          },
          "metadata": {
            "tags": []
          },
          "execution_count": 123
        }
      ]
    },
    {
      "cell_type": "code",
      "metadata": {
        "id": "4yrJbrWFhRKS",
        "colab_type": "code",
        "outputId": "a50e1e68-aee2-4eb2-ae05-4c0763580afb",
        "colab": {
          "base_uri": "https://localhost:8080/",
          "height": 404
        }
      },
      "source": [
        "y_test"
      ],
      "execution_count": 0,
      "outputs": [
        {
          "output_type": "execute_result",
          "data": {
            "text/html": [
              "<div>\n",
              "<style scoped>\n",
              "    .dataframe tbody tr th:only-of-type {\n",
              "        vertical-align: middle;\n",
              "    }\n",
              "\n",
              "    .dataframe tbody tr th {\n",
              "        vertical-align: top;\n",
              "    }\n",
              "\n",
              "    .dataframe thead th {\n",
              "        text-align: right;\n",
              "    }\n",
              "</style>\n",
              "<table border=\"1\" class=\"dataframe\">\n",
              "  <thead>\n",
              "    <tr style=\"text-align: right;\">\n",
              "      <th></th>\n",
              "      <th>Timing</th>\n",
              "    </tr>\n",
              "  </thead>\n",
              "  <tbody>\n",
              "    <tr>\n",
              "      <th>871</th>\n",
              "      <td>0.739974</td>\n",
              "    </tr>\n",
              "    <tr>\n",
              "      <th>4347</th>\n",
              "      <td>2.519840</td>\n",
              "    </tr>\n",
              "    <tr>\n",
              "      <th>1865</th>\n",
              "      <td>1.264280</td>\n",
              "    </tr>\n",
              "    <tr>\n",
              "      <th>1518</th>\n",
              "      <td>0.929134</td>\n",
              "    </tr>\n",
              "    <tr>\n",
              "      <th>3555</th>\n",
              "      <td>2.021750</td>\n",
              "    </tr>\n",
              "    <tr>\n",
              "      <th>...</th>\n",
              "      <td>...</td>\n",
              "    </tr>\n",
              "    <tr>\n",
              "      <th>188</th>\n",
              "      <td>1.776360</td>\n",
              "    </tr>\n",
              "    <tr>\n",
              "      <th>3168</th>\n",
              "      <td>1.660950</td>\n",
              "    </tr>\n",
              "    <tr>\n",
              "      <th>2946</th>\n",
              "      <td>1.512500</td>\n",
              "    </tr>\n",
              "    <tr>\n",
              "      <th>1533</th>\n",
              "      <td>0.178244</td>\n",
              "    </tr>\n",
              "    <tr>\n",
              "      <th>685</th>\n",
              "      <td>0.751530</td>\n",
              "    </tr>\n",
              "  </tbody>\n",
              "</table>\n",
              "<p>1043 rows × 1 columns</p>\n",
              "</div>"
            ],
            "text/plain": [
              "        Timing\n",
              "871   0.739974\n",
              "4347  2.519840\n",
              "1865  1.264280\n",
              "1518  0.929134\n",
              "3555  2.021750\n",
              "...        ...\n",
              "188   1.776360\n",
              "3168  1.660950\n",
              "2946  1.512500\n",
              "1533  0.178244\n",
              "685   0.751530\n",
              "\n",
              "[1043 rows x 1 columns]"
            ]
          },
          "metadata": {
            "tags": []
          },
          "execution_count": 124
        }
      ]
    }
  ]
}