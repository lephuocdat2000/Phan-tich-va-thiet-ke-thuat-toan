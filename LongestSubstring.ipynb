{
  "nbformat": 4,
  "nbformat_minor": 0,
  "metadata": {
    "colab": {
      "name": "Untitled99.ipynb",
      "provenance": [],
      "authorship_tag": "ABX9TyMBWKjW472mxG4ORrSSN+UK",
      "include_colab_link": true
    },
    "kernelspec": {
      "name": "python3",
      "display_name": "Python 3"
    }
  },
  "cells": [
    {
      "cell_type": "markdown",
      "metadata": {
        "id": "view-in-github",
        "colab_type": "text"
      },
      "source": [
        "<a href=\"https://colab.research.google.com/github/lephuocdat2000/Phan-tich-va-thiet-ke-thuat-toan/blob/main/LongestSubstring.ipynb\" target=\"_parent\"><img src=\"https://colab.research.google.com/assets/colab-badge.svg\" alt=\"Open In Colab\"/></a>"
      ]
    },
    {
      "cell_type": "code",
      "metadata": {
        "id": "ngBh5ECiojIE"
      },
      "source": [
        "def lps(str): \r\n",
        "    n = len(str) \r\n",
        "    L = [[0 for x in range(n)] for x in range(n)] \r\n",
        "    for i in range(n): \r\n",
        "        L[i][i] = 1\r\n",
        "    for cl in range(2, n+1): \r\n",
        "        for i in range(n-cl+1): \r\n",
        "            j = i+cl-1\r\n",
        "            if str[i] == str[j] and cl == 2: \r\n",
        "                L[i][j] = 2\r\n",
        "            elif str[i] == str[j]: \r\n",
        "                L[i][j] = L[i+1][j-1] + 2\r\n",
        "            else: \r\n",
        "                L[i][j] = max(L[i][j-1], L[i+1][j]); \r\n",
        "  \r\n",
        "    return L[0][n-1] \r\n",
        "seq = input()\r\n",
        "n = len(seq) \r\n",
        "print(str(lps(seq)))"
      ],
      "execution_count": null,
      "outputs": []
    }
  ]
}