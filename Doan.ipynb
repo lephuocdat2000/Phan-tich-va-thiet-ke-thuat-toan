{
  "nbformat": 4,
  "nbformat_minor": 0,
  "metadata": {
    "colab": {
      "name": "Untitled111.ipynb",
      "provenance": [],
      "authorship_tag": "ABX9TyNISyp53gSJ++FEOjl6hOsy",
      "include_colab_link": true
    },
    "kernelspec": {
      "name": "python3",
      "display_name": "Python 3"
    }
  },
  "cells": [
    {
      "cell_type": "markdown",
      "metadata": {
        "id": "view-in-github",
        "colab_type": "text"
      },
      "source": [
        "<a href=\"https://colab.research.google.com/github/lephuocdat2000/Phan-tich-va-thiet-ke-thuat-toan/blob/main/Doan.ipynb\" target=\"_parent\"><img src=\"https://colab.research.google.com/assets/colab-badge.svg\" alt=\"Open In Colab\"/></a>"
      ]
    },
    {
      "cell_type": "code",
      "metadata": {
        "colab": {
          "base_uri": "https://localhost:8080/"
        },
        "id": "_p30v0OJRjAk",
        "outputId": "71541142-34dc-49d9-efd4-2aa717210796"
      },
      "source": [
        "N,L=map(int,input().split())\r\n",
        "arr_ferry=list(map(int,input().split()))\r\n",
        "def f(i,a,b,c,d):\r\n",
        "   if (a<0) or (b<0) or (c<0) or (d<0): return -1\r\n",
        "   if i==N:\r\n",
        "       if (a==0) and (b==0) and (c==0) and (d==0): return 0\r\n",
        "       else: return -1\r\n",
        "   return max(f(i+1,a-arr_ferry[i]-1,b,c,d),f(i+1,a,b-arr_ferry[i]-1,c,d),f(i+1,a,b,c-arr_ferry[i]-1,d),f(i+1,a,b,c,d-arr_ferry[i]-1))+1\r\n",
        "print(f(0,L+1,L+1,L+1,L+1))"
      ],
      "execution_count": 75,
      "outputs": [
        {
          "output_type": "stream",
          "text": [
            "10 5\n",
            "2 1 2 5 1 1 2 1 1 2 \n",
            "8\n"
          ],
          "name": "stdout"
        }
      ]
    },
    {
      "cell_type": "markdown",
      "metadata": {
        "id": "_DqfmTjrYvWv"
      },
      "source": [
        "Bottom up"
      ]
    },
    {
      "cell_type": "code",
      "metadata": {
        "colab": {
          "base_uri": "https://localhost:8080/"
        },
        "id": "-krMlVKpYu8G",
        "outputId": "488e44a2-5a2f-40bd-8a08-46e9a26abddf"
      },
      "source": [
        "N,L=map(int,input().split())\r\n",
        "arr_ferry=list(map(int,input().split()))\r\n",
        "inf=float(\"inf\")\r\n",
        "def f_bottom_up(arr):\r\n",
        "   vt,max_temp,max_elect=[],-inf,max(arr_ferry)\r\n",
        "   memoi=[ [ [ [ [0]*(L+max_elect) ]*(L+max_elect) ]*(L+max_elect) ]*(L+max_elect) for i in range(2)]\r\n",
        "   for i in reversed(range(0,N+1)):\r\n",
        "     for a in reversed(range(0,L+max_elect)):\r\n",
        "       for b in reversed(range(0,L+max_elect)):\r\n",
        "         for c in reversed(range(0,L+max_elect)):\r\n",
        "           for d in reversed(range(0,L+max_elect)):\r\n",
        "              if (a>=L+1) or (b>=L+1) or (c>=L+1) or (d>=L+1): memoi[i%2][a][b][c][d]=-inf\r\n",
        "              elif i==N:  \r\n",
        "                if (a==L) and (b==L) and (c==L) and (d==L): memoi[i%2][a][b][c][d]=0\r\n",
        "                else: memoi[i%2][a][b][c][d]=-inf\r\n",
        "              else: \r\n",
        "                   memoi[i%2][a][b][c][d]=max(memoi[(i+1)%2][a-arr_ferry[i]-1][b][c][d],memoi[(i+1)%2][a][b-arr_ferry[i]-1][c][d],memoi[(i+1)%2][a][b][c-arr_ferry[i]-1][d],memoi[(i+1)%2][a][b][c][d-arr_ferry[i]-1])+1\r\n",
        "                   if (a==L) and (b==L) and (c==L) and (d==L) and (max_temp<memoi[i%2][a][b][c][d]):\r\n",
        "                      max_temp = memoi[i%2][a][b][c][d]\r\n",
        "                      vt=[i,a,b,c,d]\r\n",
        "   return max_temp\r\n",
        "   #return memoi[vt[0]%2][vt[1]][vt[2]][vt[3]][vt[4]]\r\n",
        "\r\n",
        "print(f_bottom_up(arr_ferry))"
      ],
      "execution_count": 82,
      "outputs": [
        {
          "output_type": "stream",
          "text": [
            "10 5\n",
            "2 1 2 5 1 2 1 2 1 2 \n",
            "-inf\n",
            "-inf\n",
            "-inf\n",
            "-inf\n",
            "-inf\n",
            "-inf\n",
            "-inf\n",
            "-inf\n",
            "-inf\n",
            "-inf\n",
            "-inf\n"
          ],
          "name": "stdout"
        }
      ]
    }
  ]
}