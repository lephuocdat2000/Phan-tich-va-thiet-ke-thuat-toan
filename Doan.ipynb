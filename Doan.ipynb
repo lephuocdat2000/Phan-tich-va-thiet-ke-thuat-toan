{
  "nbformat": 4,
  "nbformat_minor": 0,
  "metadata": {
    "colab": {
      "name": "Untitled111.ipynb",
      "provenance": [],
      "authorship_tag": "ABX9TyNhUFrnTD6aTXx8bCwuJg7Y",
      "include_colab_link": true
    },
    "kernelspec": {
      "name": "python3",
      "display_name": "Python 3"
    }
  },
  "cells": [
    {
      "cell_type": "markdown",
      "metadata": {
        "id": "view-in-github",
        "colab_type": "text"
      },
      "source": [
        "<a href=\"https://colab.research.google.com/github/lephuocdat2000/Phan-tich-va-thiet-ke-thuat-toan/blob/main/Doan.ipynb\" target=\"_parent\"><img src=\"https://colab.research.google.com/assets/colab-badge.svg\" alt=\"Open In Colab\"/></a>"
      ]
    },
    {
      "cell_type": "markdown",
      "metadata": {
        "id": "vL8LxcucC4z3"
      },
      "source": [
        "Backtracking"
      ]
    },
    {
      "cell_type": "code",
      "metadata": {
        "colab": {
          "base_uri": "https://localhost:8080/"
        },
        "id": "_p30v0OJRjAk",
        "outputId": "81344297-bcfe-4f9a-aa31-ca619f294387"
      },
      "source": [
        "inf=float(\"inf\")\r\n",
        "N,L=map(int,input().split())\r\n",
        "arr_ferry=list(map(int,input().split()))\r\n",
        "def f(i,a,b,c,d):\r\n",
        "   if (a<0) or (b<0) or (c<0) or (d<0): return -1\r\n",
        "   if i==N: return 0\r\n",
        "   elif (a==0) and (b==0) and (c==0) and (d==0): return 0\r\n",
        "   return max(f(i+1,a-arr_ferry[i]-1,b,c,d),f(i+1,a,b-arr_ferry[i]-1,c,d),f(i+1,a,b,c-arr_ferry[i]-1,d),f(i+1,a,b,c,d-arr_ferry[i]-1))+1\r\n",
        "print(f(0,L+1,L+1,L+1,L+1))"
      ],
      "execution_count": null,
      "outputs": [
        {
          "output_type": "stream",
          "text": [
            "6 5\n",
            "2 1 4 3 2 5 \n",
            "6\n"
          ],
          "name": "stdout"
        }
      ]
    },
    {
      "cell_type": "markdown",
      "metadata": {
        "id": "73hrI3RhFVdg"
      },
      "source": [
        "Top-down"
      ]
    },
    {
      "cell_type": "code",
      "metadata": {
        "id": "EArS_k3rFXfX",
        "colab": {
          "base_uri": "https://localhost:8080/"
        },
        "outputId": "cf0a69c8-9fd1-422d-a89e-4e519389c483"
      },
      "source": [
        "inf=float(\"inf\")\r\n",
        "N,L=map(int,input().split())\r\n",
        "arr_ferry=list(map(int,input().split()))\r\n",
        "max_temp,max_elect=-inf,max(arr_ferry)\r\n",
        "memoi=[[[[[-inf]*(L+max_elect)]*(L+max_elect)]*(L+max_elect)]*(L+max_elect) for i in range(N+1)]\r\n",
        "def f(i,a,b,c,d):\r\n",
        "   if memoi[i][a][b][c][d]!=-inf : return memoi[i][a][b][c][d]\r\n",
        "   if (a==0) and (b==0) and (c==0) and (d==0): return 0\r\n",
        "   if (a<0) or (b<0) or (c<0) or (d<0): return -1\r\n",
        "   if i==N: return 0\r\n",
        "   memoi[i][a][b][c][d] = max(f(i+1,a-arr_ferry[i]-1,b,c,d),f(i+1,a,b-arr_ferry[i]-1,c,d),f(i+1,a,b,c-arr_ferry[i]-1,d),f(i+1,a,b,c,d-arr_ferry[i]-1))+1\r\n",
        "   return memoi[i][a][b][c][d]\r\n",
        "print(f(0,L+1,L+1,L+1,L+1))"
      ],
      "execution_count": 16,
      "outputs": [
        {
          "output_type": "stream",
          "text": [
            "10 5\n",
            "2 1 2 5 1 1 2 1 1 2 \n",
            "8\n"
          ],
          "name": "stdout"
        }
      ]
    },
    {
      "cell_type": "markdown",
      "metadata": {
        "id": "O9PQ6vt7Jkg1"
      },
      "source": [
        "Top down test"
      ]
    },
    {
      "cell_type": "code",
      "metadata": {
        "id": "EiPKnRd-Jiu3",
        "outputId": "69dc084c-7d39-4fdd-bf61-26a4dff01165",
        "colab": {
          "base_uri": "https://localhost:8080/"
        }
      },
      "source": [
        "inf=float(\"inf\")\r\n",
        "N,L=map(int,input().split())\r\n",
        "arr_ferry=list(map(int,input().split()))\r\n",
        "max_temp,max_elect=-inf,max(arr_ferry)\r\n",
        "memoi=[[[[[-inf]*(L+max_elect)]*(L+max_elect)]*(L+max_elect)]*(L+max_elect) for i in range(2)]\r\n",
        "def f(i,a,b,c,d):\r\n",
        "   if memoi[i%2][a][b][c][d]!=-inf : return memoi[i%2][a][b][c][d]\r\n",
        "   if (a==0) and (b==0) and (c==0) and (d==0): return 0\r\n",
        "   if (a<0) or (b<0) or (c<0) or (d<0): return -1\r\n",
        "   if i==N: return 0\r\n",
        "   memoi[i%2][a][b][c][d] = max(f(i+1,a-arr_ferry[i]-1,b,c,d),f(i+1,a,b-arr_ferry[i]-1,c,d),f(i+1,a,b,c-arr_ferry[i]-1,d),f(i+1,a,b,c,d-arr_ferry[i]-1))+1\r\n",
        "   return memoi[i%2][a][b][c][d]\r\n",
        "print(f(0,L+1,L+1,L+1,L+1))"
      ],
      "execution_count": 25,
      "outputs": [
        {
          "output_type": "stream",
          "text": [
            "10 5\n",
            "2 3 2 1 1 1 5 2 1 5 \n",
            "9\n"
          ],
          "name": "stdout"
        }
      ]
    },
    {
      "cell_type": "markdown",
      "metadata": {
        "id": "_DqfmTjrYvWv"
      },
      "source": [
        "Bottom up"
      ]
    },
    {
      "cell_type": "code",
      "metadata": {
        "colab": {
          "base_uri": "https://localhost:8080/"
        },
        "id": "-krMlVKpYu8G",
        "outputId": "7945c540-d017-4caa-be1a-034c474b845c"
      },
      "source": [
        "N,L=map(int,input().split())\r\n",
        "arr_ferry=list(map(int,input().split()))\r\n",
        "inf=float(\"inf\")\r\n",
        "def Calculatevt(arr,L):\r\n",
        "  s,vt,lane=0,0,0\r\n",
        "  for i,value in enumerate(arr): \r\n",
        "     if (s+value+1<=L+1): \r\n",
        "       s+=value+1\r\n",
        "     else: \r\n",
        "       s=arr[i]+1\r\n",
        "       lane+=1\r\n",
        "       if lane==4: return i-1\r\n",
        "def f_bottom_up(arr):\r\n",
        "   #vt=Calculatevt(arr,L)\r\n",
        "   #print(vt)\r\n",
        "   max_temp,max_elect=-inf,max(arr)\r\n",
        "   memoi=[[[[[-L]*(L+max_elect+1)]*(L+max_elect+1)]*(L+max_elect+1)]*(L+max_elect+1) for i in range(2)]\r\n",
        "   for i in reversed(range(0,N+1)):\r\n",
        "     for a in range(0,L+2):\r\n",
        "       for b in range(0,L+2):\r\n",
        "         for c in range(0,L+2):\r\n",
        "           for d in range(0,L+2):\r\n",
        "              if (a==0) and (b==0) and (c==0) and (d==0): memoi[i%2][a][b][c][d]=0\r\n",
        "              elif i==N and (a>=0) and (b>=0) and (c>=0) and (d>=0): memoi[i%2][a][b][c][d]=0\r\n",
        "              else: \r\n",
        "                memoi[i%2][a][b][c][d]=max(memoi[(i+1)%2][a-arr_ferry[i]-1][b][c][d],memoi[(i+1)%2][a][b-arr_ferry[i]-1][c][d],memoi[(i+1)%2][a][b][c-arr_ferry[i]-1][d],memoi[(i+1)%2][a][b][c][d-arr_ferry[i]-1])+1\r\n",
        "   return memoi[0][L+1][L+1][L+1][L+1]\r\n",
        "print(f_bottom_up(arr_ferry))"
      ],
      "execution_count": 10,
      "outputs": [
        {
          "output_type": "stream",
          "text": [
            "10 5\n",
            "2 1 2 5 1 1 2 1 1 2\n",
            "10\n"
          ],
          "name": "stdout"
        }
      ]
    }
  ]
}