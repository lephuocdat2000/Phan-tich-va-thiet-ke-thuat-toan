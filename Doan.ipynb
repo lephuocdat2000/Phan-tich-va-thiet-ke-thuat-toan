{
  "nbformat": 4,
  "nbformat_minor": 0,
  "metadata": {
    "colab": {
      "name": "Untitled111.ipynb",
      "provenance": [],
      "authorship_tag": "ABX9TyOVrf0MvzBZSD5PDRAygBf+",
      "include_colab_link": true
    },
    "kernelspec": {
      "name": "python3",
      "display_name": "Python 3"
    }
  },
  "cells": [
    {
      "cell_type": "markdown",
      "metadata": {
        "id": "view-in-github",
        "colab_type": "text"
      },
      "source": [
        "<a href=\"https://colab.research.google.com/github/lephuocdat2000/Phan-tich-va-thiet-ke-thuat-toan/blob/main/Doan.ipynb\" target=\"_parent\"><img src=\"https://colab.research.google.com/assets/colab-badge.svg\" alt=\"Open In Colab\"/></a>"
      ]
    },
    {
      "cell_type": "markdown",
      "metadata": {
        "id": "vL8LxcucC4z3"
      },
      "source": [
        "Backtracking"
      ]
    },
    {
      "cell_type": "code",
      "metadata": {
        "colab": {
          "base_uri": "https://localhost:8080/"
        },
        "id": "_p30v0OJRjAk",
        "outputId": "64d3c18a-85ec-4a52-9673-033e1d0f29c8"
      },
      "source": [
        "inf=float(\"inf\")\r\n",
        "N,L=map(int,input().split())\r\n",
        "arr_ferry=list(map(int,input().split()))\r\n",
        "def f(i,a,b,c,d):\r\n",
        "   #Nếu đã xét qua xe thứ i mà 4 lane hết chỗ chứa thì xe thứ i đó có thể bỏ vào nhưng xe tiếp theo k bỏ vào được nữa\r\n",
        "   if (a==0) and (b==0) and (c==0) and (d==0): return 0\r\n",
        "   #Nếu xét qua xe thứ i mà một trong 4 lane âm thì không thể bỏ xe thứ i và các xe ở sau vào nữa\r\n",
        "   if (a<0) or (b<0) or (c<0) or (d<0): return -1\r\n",
        "   #nếu xét qua xe cuối cùng mà không rơi vào trường hợp âm ở trên thì chứng tỏ xe cuối cùng có thể bỏ vào được\r\n",
        "   if i==N: return 0\r\n",
        "   # Mỗi xe có 4 phương án lựa chọn bỏ vào 4 phà, chọn phương án trả về số lượng xe bỏ được vào phà lớn nhất \r\n",
        "   return max(f(i+1,a-arr_ferry[i]-1,b,c,d),f(i+1,a,b-arr_ferry[i]-1,c,d),f(i+1,a,b,c-arr_ferry[i]-1,d),f(i+1,a,b,c,d-arr_ferry[i]-1))+1\r\n",
        "print(f(0,L+1,L+1,L+1,L+1))"
      ],
      "execution_count": null,
      "outputs": [
        {
          "output_type": "stream",
          "text": [
            "4 4\n",
            "4 4 4 4\n",
            "4\n"
          ],
          "name": "stdout"
        }
      ]
    },
    {
      "cell_type": "markdown",
      "metadata": {
        "id": "73hrI3RhFVdg"
      },
      "source": [
        "Top-down"
      ]
    },
    {
      "cell_type": "code",
      "metadata": {
        "id": "EArS_k3rFXfX",
        "colab": {
          "base_uri": "https://localhost:8080/"
        },
        "outputId": "7eb53b2d-8464-4594-844c-4f29ee69bf41"
      },
      "source": [
        "inf=float(\"inf\")\r\n",
        "N,L=map(int,input().split())\r\n",
        "arr_ferry=list(map(int,input().split()))\r\n",
        "max_temp,max_elect=-inf,max(arr_ferry)\r\n",
        "memoi=[[[[[-1]*(L+max_elect)]*(L+max_elect)]*(L+max_elect)]*(L+max_elect) for i in range(N+1)]\r\n",
        "def f(i,a,b,c,d):\r\n",
        "   if memoi[i][a][b][c][d]!=-1 : return memoi[i][a][b][c][d]\r\n",
        "   if (a==0) and (b==0) and (c==0) and (d==0): return 0\r\n",
        "   if (a<0) or (b<0) or (c<0) or (d<0): return -1\r\n",
        "   if i==N: return 0\r\n",
        "   memoi[i][a][b][c][d] = max(f(i+1,a-arr_ferry[i]-1,b,c,d),f(i+1,a,b-arr_ferry[i]-1,c,d),f(i+1,a,b,c-arr_ferry[i]-1,d),f(i+1,a,b,c,d-arr_ferry[i]-1))+1\r\n",
        "   return memoi[i][a][b][c][d]\r\n",
        "print(f(0,L+1,L+1,L+1,L+1))"
      ],
      "execution_count": null,
      "outputs": [
        {
          "output_type": "stream",
          "text": [
            "6 4\n",
            "2 1 1 3 4 2 \n",
            "6\n"
          ],
          "name": "stdout"
        }
      ]
    },
    {
      "cell_type": "markdown",
      "metadata": {
        "id": "GcP3cQu0EDag"
      },
      "source": [
        "vt3:  1 2 0 5  -> vt4: 1 2 0 5 ->                          1 2 4 3  "
      ]
    },
    {
      "cell_type": "markdown",
      "metadata": {
        "id": "YcS1Tlc8QC_y"
      },
      "source": [
        "Topdown Traceback"
      ]
    },
    {
      "cell_type": "code",
      "metadata": {
        "id": "h1MH4oPlQCgf",
        "colab": {
          "base_uri": "https://localhost:8080/"
        },
        "outputId": "bc456b52-3c0b-4ff8-8e8d-2442c714970a"
      },
      "source": [
        "inf=float(\"inf\")\r\n",
        "N,L=map(int,input().split())\r\n",
        "arr_ferry=list(map(int,input().split()))\r\n",
        "trace_back=[[0] for i in range(N+1)]\r\n",
        "max_elect=max(arr_ferry)\r\n",
        "#mỗi phần tử trong memoi sẽ là một tuple có 5 phần tử gồm: số xe lớn nhất tại node đó và 4 list tượng trưng cho 4 lane để chưa các xe thứ i khi xếp xe vào lane \r\n",
        "memoi=[[[[[(-inf,[],[],[],[])]*(L+max_elect+1)]*(L+max_elect+1)]*(L+max_elect+1)]*(L+max_elect+1) for i in range(N+1)]\r\n",
        "#hàm Findmax để tìm xem với 1 trong bốn phương án bỏ xe thứ i vào 4 lane a,b,c,d thì phương án nào cho kq số xe nhiều nhất và trả về lane mà xe thứ i được xếp vào\r\n",
        "def Findmax(a,b,c,d):\r\n",
        "  #xem phần tử đều tiên là max\r\n",
        "  # lần lượt so sánh với các phần tử còn lại \r\n",
        "  max_temp,vt=[a[0],a[1],a[2],a[3],a[4]],1\r\n",
        "  if max_temp[0]<b[0]: \r\n",
        "    max_temp[0]=b[0]\r\n",
        "    for i in range(1,5):\r\n",
        "      max_temp[i]=b[i].copy()\r\n",
        "    vt=2\r\n",
        "  if max_temp[0]<c[0]: \r\n",
        "    max_temp[0]=c[0]\r\n",
        "    for i in range(1,5):\r\n",
        "      max_temp[i]=c[i].copy()\r\n",
        "    vt=3\r\n",
        "  if max_temp[0]<d[0]: \r\n",
        "    max_temp[0]=d[0]\r\n",
        "    for i in range(1,5):\r\n",
        "      max_temp[i]=d[i].copy()\r\n",
        "    vt=4\r\n",
        "  return tuple(max_temp),vt\r\n",
        "\r\n",
        "#hàm Assign_Tup_Tup dùng để gán phần tử max tìm được và lane mà xe thứ i bỏ vào cho memoi\r\n",
        "def Assign_Tup_Tup(i,vt,a,b):\r\n",
        "   #i là vị trí của xe trong list xe, vt là lane mà xe thứ i được xếp vào, a là memoi, b là max 1 trong 4 phương án tìm được ở trên\r\n",
        "   a,b=list(a),list(b)\r\n",
        "   a[0]=b[0]+1\r\n",
        "   for j in range(1,5):\r\n",
        "      a[j]=b[j].copy()\r\n",
        "   if a[0]>0: a[vt].append(i)\r\n",
        "   return tuple(a)\r\n",
        "def f(i,a,b,c,d):\r\n",
        "   if memoi[i][a][b][c][d][0]!=-inf : return memoi[i][a][b][c][d]\r\n",
        "   #if (a==0) and (b==0) and (c==0) and (d==0): return (0,[],[],[],[])\r\n",
        "   if (a<0) or (b<0) or (c<0) or (d<0): return (-1,[],[],[],[])\r\n",
        "   if i==N: return (0,[],[],[],[])\r\n",
        "   max_temp,vt=Findmax(f(i+1,a-arr_ferry[i]-1,b,c,d),f(i+1,a,b-arr_ferry[i]-1,c,d),f(i+1,a,b,c-arr_ferry[i]-1,d),f(i+1,a,b,c,d-arr_ferry[i]-1))\r\n",
        "   memoi[i][a][b][c][d]=Assign_Tup_Tup(i,vt,memoi[i][a][b][c][d],max_temp)\r\n",
        "   return memoi[i][a][b][c][d]\r\n",
        "print(f(0,L+1,L+1,L+1,L+1))"
      ],
      "execution_count": null,
      "outputs": [
        {
          "output_type": "stream",
          "text": [
            "10 5\n",
            "2 1 2 5 1 1 2 1 1 2\n",
            "(8, [1, 0], [6, 2], [3], [7, 5, 4])\n"
          ],
          "name": "stdout"
        }
      ]
    },
    {
      "cell_type": "markdown",
      "metadata": {
        "id": "_DqfmTjrYvWv"
      },
      "source": [
        "Bottom up"
      ]
    },
    {
      "cell_type": "code",
      "metadata": {
        "colab": {
          "base_uri": "https://localhost:8080/"
        },
        "id": "-krMlVKpYu8G",
        "outputId": "7945c540-d017-4caa-be1a-034c474b845c"
      },
      "source": [
        "N,L=map(int,input().split())\r\n",
        "arr_ferry=list(map(int,input().split()))\r\n",
        "inf=float(\"inf\")\r\n",
        "def Calculatevt(arr,L):\r\n",
        "  s,vt,lane=0,0,0\r\n",
        "  for i,value in enumerate(arr): \r\n",
        "     if (s+value+1<=L+1): \r\n",
        "       s+=value+1\r\n",
        "     else: \r\n",
        "       s=arr[i]+1\r\n",
        "       lane+=1\r\n",
        "       if lane==4: return i-1\r\n",
        "def f_bottom_up(arr):\r\n",
        "   #vt=Calculatevt(arr,L)\r\n",
        "   #print(vt)\r\n",
        "   max_temp,max_elect=-inf,max(arr)\r\n",
        "   memoi=[[[[[-L]*(L+max_elect+1)]*(L+max_elect+1)]*(L+max_elect+1)]*(L+max_elect+1) for i in range(2)]\r\n",
        "   for i in reversed(range(0,N+1)):\r\n",
        "     for a in range(0,L+2):\r\n",
        "       for b in range(0,L+2):\r\n",
        "         for c in range(0,L+2):\r\n",
        "           for d in range(0,L+2):\r\n",
        "              if (a==0) and (b==0) and (c==0) and (d==0): memoi[i%2][a][b][c][d]=0\r\n",
        "              elif i==N and (a>=0) and (b>=0) and (c>=0) and (d>=0): memoi[i%2][a][b][c][d]=0\r\n",
        "              else: \r\n",
        "                memoi[i%2][a][b][c][d]=max(memoi[(i+1)%2][a-arr_ferry[i]-1][b][c][d],memoi[(i+1)%2][a][b-arr_ferry[i]-1][c][d],memoi[(i+1)%2][a][b][c-arr_ferry[i]-1][d],memoi[(i+1)%2][a][b][c][d-arr_ferry[i]-1])+1\r\n",
        "   return memoi[0][L+1][L+1][L+1][L+1]\r\n",
        "print(f_bottom_up(arr_ferry))"
      ],
      "execution_count": null,
      "outputs": [
        {
          "output_type": "stream",
          "text": [
            "10 5\n",
            "2 1 2 5 1 1 2 1 1 2\n",
            "10\n"
          ],
          "name": "stdout"
        }
      ]
    }
  ]
}