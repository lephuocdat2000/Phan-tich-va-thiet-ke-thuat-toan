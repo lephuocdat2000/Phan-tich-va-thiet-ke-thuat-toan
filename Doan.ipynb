{
  "nbformat": 4,
  "nbformat_minor": 0,
  "metadata": {
    "colab": {
      "name": "Untitled111.ipynb",
      "provenance": [],
      "authorship_tag": "ABX9TyM+uhm5lShCzPiph5VADt5i",
      "include_colab_link": true
    },
    "kernelspec": {
      "name": "python3",
      "display_name": "Python 3"
    }
  },
  "cells": [
    {
      "cell_type": "markdown",
      "metadata": {
        "id": "view-in-github",
        "colab_type": "text"
      },
      "source": [
        "<a href=\"https://colab.research.google.com/github/lephuocdat2000/Phan-tich-va-thiet-ke-thuat-toan/blob/main/Doan.ipynb\" target=\"_parent\"><img src=\"https://colab.research.google.com/assets/colab-badge.svg\" alt=\"Open In Colab\"/></a>"
      ]
    },
    {
      "cell_type": "markdown",
      "metadata": {
        "id": "vL8LxcucC4z3"
      },
      "source": [
        "Backtracking"
      ]
    },
    {
      "cell_type": "code",
      "metadata": {
        "colab": {
          "base_uri": "https://localhost:8080/"
        },
        "id": "_p30v0OJRjAk",
        "outputId": "81344297-bcfe-4f9a-aa31-ca619f294387"
      },
      "source": [
        "inf=float(\"inf\")\r\n",
        "N,L=map(int,input().split())\r\n",
        "arr_ferry=list(map(int,input().split()))\r\n",
        "def f(i,a,b,c,d):\r\n",
        "   if (a<0) or (b<0) or (c<0) or (d<0): return -1\r\n",
        "   if i==N: return 0\r\n",
        "   elif (a==0) and (b==0) and (c==0) and (d==0): return 0\r\n",
        "   return max(f(i+1,a-arr_ferry[i]-1,b,c,d),f(i+1,a,b-arr_ferry[i]-1,c,d),f(i+1,a,b,c-arr_ferry[i]-1,d),f(i+1,a,b,c,d-arr_ferry[i]-1))+1\r\n",
        "print(f(0,L+1,L+1,L+1,L+1))"
      ],
      "execution_count": null,
      "outputs": [
        {
          "output_type": "stream",
          "text": [
            "6 5\n",
            "2 1 4 3 2 5 \n",
            "6\n"
          ],
          "name": "stdout"
        }
      ]
    },
    {
      "cell_type": "markdown",
      "metadata": {
        "id": "73hrI3RhFVdg"
      },
      "source": [
        "Top-down"
      ]
    },
    {
      "cell_type": "code",
      "metadata": {
        "id": "EArS_k3rFXfX",
        "colab": {
          "base_uri": "https://localhost:8080/"
        },
        "outputId": "9d5902b2-4076-401c-a580-480b6d5b87f7"
      },
      "source": [
        "inf=float(\"inf\")\r\n",
        "N,L=map(int,input().split())\r\n",
        "arr_ferry=list(map(int,input().split()))\r\n",
        "max_temp,max_elect=-inf,max(arr_ferry)\r\n",
        "memoi=[[[[[-inf]*(L+max_elect)]*(L+max_elect)]*(L+max_elect)]*(L+max_elect) for i in range(N+1)]\r\n",
        "def f(i,a,b,c,d):\r\n",
        "   if memoi[i][a][b][c][d]!=-inf : return memoi[i][a][b][c][d]\r\n",
        "   if (a==0) and (b==0) and (c==0) and (d==0): return 0\r\n",
        "   if (a<0) or (b<0) or (c<0) or (d<0): return -1\r\n",
        "   if i==N: return 0\r\n",
        "   memoi[i][a][b][c][d] = max(f(i+1,a-arr_ferry[i]-1,b,c,d),f(i+1,a,b-arr_ferry[i]-1,c,d),f(i+1,a,b,c-arr_ferry[i]-1,d),f(i+1,a,b,c,d-arr_ferry[i]-1))+1\r\n",
        "   return memoi[i][a][b][c][d]\r\n",
        "print(f(0,L+1,L+1,L+1,L+1))"
      ],
      "execution_count": 38,
      "outputs": [
        {
          "output_type": "stream",
          "text": [
            "10 5\n",
            "10 5\n",
            "0\n"
          ],
          "name": "stdout"
        }
      ]
    },
    {
      "cell_type": "markdown",
      "metadata": {
        "id": "YcS1Tlc8QC_y"
      },
      "source": [
        "Topdown Traceback"
      ]
    },
    {
      "cell_type": "code",
      "metadata": {
        "id": "h1MH4oPlQCgf",
        "colab": {
          "base_uri": "https://localhost:8080/"
        },
        "outputId": "0d13b013-8b1c-43c4-e014-4b07213bac8f"
      },
      "source": [
        "inf=float(\"inf\")\r\n",
        "N,L=map(int,input().split())\r\n",
        "arr_ferry=list(map(int,input().split()))\r\n",
        "trace_back=[[0] for i in range(N+1)]\r\n",
        "max_elect=max(arr_ferry)\r\n",
        "memoi=[[[[[(-inf,[],[],[],[])]*(L+max_elect+1)]*(L+max_elect+1)]*(L+max_elect+1)]*(L+max_elect+1) for i in range(N+1)]\r\n",
        "\r\n",
        "def Findmax(a,b,c,d):\r\n",
        "  max_temp,vt=[a[0],a[1],a[2],a[3],a[4]],1\r\n",
        "  if max_temp[0]<b[0]: \r\n",
        "    max_temp[0]=b[0]\r\n",
        "    for i in range(1,5):\r\n",
        "      max_temp[i]=b[i].copy()\r\n",
        "    vt=2\r\n",
        "  if max_temp[0]<c[0]: \r\n",
        "    max_temp[0]=c[0]\r\n",
        "    for i in range(1,5):\r\n",
        "      max_temp[i]=c[i].copy()\r\n",
        "    vt=3\r\n",
        "  if max_temp[0]<d[0]: \r\n",
        "    max_temp[0]=d[0]\r\n",
        "    for i in range(1,5):\r\n",
        "      max_temp[i]=d[i].copy()\r\n",
        "    vt=4\r\n",
        "  return tuple(max_temp),vt\r\n",
        "def Assign_Tup_Tup(i,vt,a,b):\r\n",
        "   a,b=list(a),list(b)\r\n",
        "   a[0]=b[0]+1\r\n",
        "   for j in range(1,5):\r\n",
        "      a[j]=b[j].copy()\r\n",
        "   if a[0]>0: a[vt].append(i)\r\n",
        "   return tuple(a)\r\n",
        "def f(i,a,b,c,d):\r\n",
        "   if memoi[i][a][b][c][d][0]!=-inf : return memoi[i][a][b][c][d]\r\n",
        "   if (a==0) and (b==0) and (c==0) and (d==0): return (0,[],[],[],[])\r\n",
        "   if (a<0) or (b<0) or (c<0) or (d<0): return (-1,[],[],[],[])\r\n",
        "   if i==N: return (0,[],[],[],[])\r\n",
        "   max_temp,vt=Findmax(f(i+1,a-arr_ferry[i]-1,b,c,d),f(i+1,a,b-arr_ferry[i]-1,c,d),f(i+1,a,b,c-arr_ferry[i]-1,d),f(i+1,a,b,c,d-arr_ferry[i]-1))\r\n",
        "   memoi[i][a][b][c][d]=Assign_Tup_Tup(i,vt,memoi[i][a][b][c][d],max_temp)\r\n",
        "   return memoi[i][a][b][c][d]\r\n",
        "print(f(0,L+1,L+1,L+1,L+1))"
      ],
      "execution_count": 37,
      "outputs": [
        {
          "output_type": "stream",
          "text": [
            "10 5\n",
            "4 4 4 4 1 1 1 1 1 1\n",
            "(4, [0], [1], [2], [3])\n"
          ],
          "name": "stdout"
        }
      ]
    },
    {
      "cell_type": "markdown",
      "metadata": {
        "id": "_DqfmTjrYvWv"
      },
      "source": [
        "Bottom up"
      ]
    },
    {
      "cell_type": "code",
      "metadata": {
        "colab": {
          "base_uri": "https://localhost:8080/"
        },
        "id": "-krMlVKpYu8G",
        "outputId": "7945c540-d017-4caa-be1a-034c474b845c"
      },
      "source": [
        "N,L=map(int,input().split())\r\n",
        "arr_ferry=list(map(int,input().split()))\r\n",
        "inf=float(\"inf\")\r\n",
        "def Calculatevt(arr,L):\r\n",
        "  s,vt,lane=0,0,0\r\n",
        "  for i,value in enumerate(arr): \r\n",
        "     if (s+value+1<=L+1): \r\n",
        "       s+=value+1\r\n",
        "     else: \r\n",
        "       s=arr[i]+1\r\n",
        "       lane+=1\r\n",
        "       if lane==4: return i-1\r\n",
        "def f_bottom_up(arr):\r\n",
        "   #vt=Calculatevt(arr,L)\r\n",
        "   #print(vt)\r\n",
        "   max_temp,max_elect=-inf,max(arr)\r\n",
        "   memoi=[[[[[-L]*(L+max_elect+1)]*(L+max_elect+1)]*(L+max_elect+1)]*(L+max_elect+1) for i in range(2)]\r\n",
        "   for i in reversed(range(0,N+1)):\r\n",
        "     for a in range(0,L+2):\r\n",
        "       for b in range(0,L+2):\r\n",
        "         for c in range(0,L+2):\r\n",
        "           for d in range(0,L+2):\r\n",
        "              if (a==0) and (b==0) and (c==0) and (d==0): memoi[i%2][a][b][c][d]=0\r\n",
        "              elif i==N and (a>=0) and (b>=0) and (c>=0) and (d>=0): memoi[i%2][a][b][c][d]=0\r\n",
        "              else: \r\n",
        "                memoi[i%2][a][b][c][d]=max(memoi[(i+1)%2][a-arr_ferry[i]-1][b][c][d],memoi[(i+1)%2][a][b-arr_ferry[i]-1][c][d],memoi[(i+1)%2][a][b][c-arr_ferry[i]-1][d],memoi[(i+1)%2][a][b][c][d-arr_ferry[i]-1])+1\r\n",
        "   return memoi[0][L+1][L+1][L+1][L+1]\r\n",
        "print(f_bottom_up(arr_ferry))"
      ],
      "execution_count": null,
      "outputs": [
        {
          "output_type": "stream",
          "text": [
            "10 5\n",
            "2 1 2 5 1 1 2 1 1 2\n",
            "10\n"
          ],
          "name": "stdout"
        }
      ]
    }
  ]
}