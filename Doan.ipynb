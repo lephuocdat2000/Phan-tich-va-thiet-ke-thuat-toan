{
  "nbformat": 4,
  "nbformat_minor": 0,
  "metadata": {
    "colab": {
      "name": "Untitled111.ipynb",
      "provenance": [],
      "authorship_tag": "ABX9TyMCR6lJjzlunTAXZbNlFr9h",
      "include_colab_link": true
    },
    "kernelspec": {
      "name": "python3",
      "display_name": "Python 3"
    }
  },
  "cells": [
    {
      "cell_type": "markdown",
      "metadata": {
        "id": "view-in-github",
        "colab_type": "text"
      },
      "source": [
        "<a href=\"https://colab.research.google.com/github/lephuocdat2000/Phan-tich-va-thiet-ke-thuat-toan/blob/main/Doan.ipynb\" target=\"_parent\"><img src=\"https://colab.research.google.com/assets/colab-badge.svg\" alt=\"Open In Colab\"/></a>"
      ]
    },
    {
      "cell_type": "markdown",
      "metadata": {
        "id": "vL8LxcucC4z3"
      },
      "source": [
        "Backtracking"
      ]
    },
    {
      "cell_type": "code",
      "metadata": {
        "colab": {
          "base_uri": "https://localhost:8080/"
        },
        "id": "_p30v0OJRjAk",
        "outputId": "e2926199-9aa5-4139-b8c0-e9df81121fb4"
      },
      "source": [
        "inf=float(\"inf\")\r\n",
        "N,L=map(int,input().split())\r\n",
        "arr_ferry=list(map(int,input().split()))\r\n",
        "def f(i,a,b,c,d):\r\n",
        "   if (a<0) or (b<0) or (c<0) or (d<0): return -1\r\n",
        "   if i==N: return -1\r\n",
        "   elif (a==0) and (b==0) and (c==0) and (d==0): return 0\r\n",
        "   return max(f(i+1,a-arr_ferry[i]-1,b,c,d),f(i+1,a,b-arr_ferry[i]-1,c,d),f(i+1,a,b,c-arr_ferry[i]-1,d),f(i+1,a,b,c,d-arr_ferry[i]-1))+1\r\n",
        "print(f(0,L+1,L+1,L+1,L+1))"
      ],
      "execution_count": 65,
      "outputs": [
        {
          "output_type": "stream",
          "text": [
            "6 10 \n",
            "9 2 4 3 7 5 \n",
            "5\n"
          ],
          "name": "stdout"
        }
      ]
    },
    {
      "cell_type": "markdown",
      "metadata": {
        "id": "73hrI3RhFVdg"
      },
      "source": [
        "Top-down"
      ]
    },
    {
      "cell_type": "code",
      "metadata": {
        "id": "EArS_k3rFXfX",
        "colab": {
          "base_uri": "https://localhost:8080/"
        },
        "outputId": "6b1d0258-adb7-46d7-80cb-e64a29045b8c"
      },
      "source": [
        "inf=float(\"inf\")\r\n",
        "N,L=map(int,input().split())\r\n",
        "arr_ferry=list(map(int,input().split()))\r\n",
        "max_temp,max_elect=-inf,max(arr_ferry)\r\n",
        "memoi=[[[[[-inf]*(L+max_elect)]*(L+max_elect)]*(L+max_elect)]*(L+max_elect) for i in range(N+1)]\r\n",
        "def f(i,a,b,c,d):\r\n",
        "   if memoi[i][a][b][c][d]!=-inf : return memoi[i][a][b][c][d]\r\n",
        "   if (a<0) or (b<0) or (c<0) or (d<0): return -1\r\n",
        "   if i==N: return -1\r\n",
        "   if (a==0) and (b==0) and (c==0) and (d==0): return 0\r\n",
        "   memoi[i][a][b][c][d] = max(f(i+1,a-arr_ferry[i]-1,b,c,d),f(i+1,a,b-arr_ferry[i]-1,c,d),f(i+1,a,b,c-arr_ferry[i]-1,d),f(i+1,a,b,c,d-arr_ferry[i]-1))+1\r\n",
        "   return memoi[i][a][b][c][d]\r\n",
        "print(f(0,L+1,L+1,L+1,L+1))"
      ],
      "execution_count": 66,
      "outputs": [
        {
          "output_type": "stream",
          "text": [
            "6 10\n",
            "9 2 4 3 7 5 \n",
            "5\n"
          ],
          "name": "stdout"
        }
      ]
    },
    {
      "cell_type": "markdown",
      "metadata": {
        "id": "_DqfmTjrYvWv"
      },
      "source": [
        "Bottom up"
      ]
    },
    {
      "cell_type": "code",
      "metadata": {
        "colab": {
          "base_uri": "https://localhost:8080/"
        },
        "id": "-krMlVKpYu8G",
        "outputId": "1edcecaa-f5f4-46cc-c38a-3c9ec42808d8"
      },
      "source": [
        "N,L=map(int,input().split())\r\n",
        "arr_ferry=list(map(int,input().split()))\r\n",
        "inf=float(\"inf\")\r\n",
        "def Calculatevt(arr,L):\r\n",
        "  s,vt=0,0\r\n",
        "  for i,value in enumerate(arr): \r\n",
        "     if (s+value+1<=L*4+4): \r\n",
        "       s+=value+1\r\n",
        "       vt=i\r\n",
        "     else: break\r\n",
        "  return vt \r\n",
        "\r\n",
        "def f_bottom_up(arr):\r\n",
        "   vt=Calculatevt(arr,L)\r\n",
        "   max_temp,max_elect=-inf,max(arr)\r\n",
        "   memoi=[[[[[-1]*(L+max_elect)]*(L+max_elect)]*(L+max_elect)]*(L+max_elect) for i in range(2)]\r\n",
        "   for i in reversed(range(0,vt+1)):\r\n",
        "     for a in range(0,L+2):\r\n",
        "       for b in range(0,L+2):\r\n",
        "         for c in range(0,L+2):\r\n",
        "           for d in range(0,L+2):\r\n",
        "              if (a==0) and (b==0) and (c==0) and (d==0): memoi[i%2][a][b][c][d]=0\r\n",
        "              else: \r\n",
        "                memoi[i%2][a][b][c][d]=max(memoi[(i+1)%2][a-arr_ferry[i]-1][b][c][d],memoi[(i+1)%2][a][b-arr_ferry[i]-1][c][d],memoi[(i+1)%2][a][b][c-arr_ferry[i]-1][d],memoi[(i+1)%2][a][b][c][d-arr_ferry[i]-1])+1\r\n",
        "   return memoi[0][L+1][L+1][L+1][L+1]\r\n",
        "print(f_bottom_up(arr_ferry))"
      ],
      "execution_count": 67,
      "outputs": [
        {
          "output_type": "stream",
          "text": [
            "6 10\n",
            "9 2 4 3 7 5 \n",
            "5\n"
          ],
          "name": "stdout"
        }
      ]
    }
  ]
}