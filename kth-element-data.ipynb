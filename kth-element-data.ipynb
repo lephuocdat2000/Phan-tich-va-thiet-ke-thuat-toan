{
  "nbformat": 4,
  "nbformat_minor": 0,
  "metadata": {
    "colab": {
      "name": "Untitled42.ipynb",
      "provenance": [],
      "authorship_tag": "ABX9TyMz2zQNYBEqZd5ut5FyNWl1",
      "include_colab_link": true
    },
    "kernelspec": {
      "name": "python3",
      "display_name": "Python 3"
    }
  },
  "cells": [
    {
      "cell_type": "markdown",
      "metadata": {
        "id": "view-in-github",
        "colab_type": "text"
      },
      "source": [
        "<a href=\"https://colab.research.google.com/github/lephuocdat2000/Phan-tich-va-thiet-ke-thuat-toan/blob/main/kth-element-data.ipynb\" target=\"_parent\"><img src=\"https://colab.research.google.com/assets/colab-badge.svg\" alt=\"Open In Colab\"/></a>"
      ]
    },
    {
      "cell_type": "markdown",
      "metadata": {
        "id": "5QC0sZCPNMGT"
      },
      "source": [
        "#n=constant\n"
      ]
    },
    {
      "cell_type": "markdown",
      "metadata": {
        "id": "r-j35deUVJoQ"
      },
      "source": [
        "# New section"
      ]
    },
    {
      "cell_type": "code",
      "metadata": {
        "id": "fkhvaYQhebwC",
        "outputId": "e862103a-a640-45b8-efdb-859588df7004",
        "colab": {
          "base_uri": "https://localhost:8080/",
          "height": 282
        }
      },
      "source": [
        "import pandas as pd\n",
        "data_n_constant=pd.read_csv('/content/kth-element.csv', encoding='utf-8')\n",
        "data_n_constant.columns=['k','operations','n']\n",
        "import matplotlib.pyplot as plt\n",
        "plt.scatter(data_n_constant['k'],data_n_constant['operations'])"
      ],
      "execution_count": 2,
      "outputs": [
        {
          "output_type": "execute_result",
          "data": {
            "text/plain": [
              "<matplotlib.collections.PathCollection at 0x7f46802aa828>"
            ]
          },
          "metadata": {
            "tags": []
          },
          "execution_count": 2
        },
        {
          "output_type": "display_data",
          "data": {
            "image/png": "[encoded data removed]",
            "text/plain": [
              "<Figure size 432x288 with 1 Axes>"
            ]
          },
          "metadata": {
            "tags": [],
            "needs_background": "light"
          }
        }
      ]
    },
    {
      "cell_type": "code",
      "metadata": {
        "id": "MG-uCL4nNLPS",
        "outputId": "0bd77ff3-cfca-401c-db2a-14b140c9e87b",
        "colab": {
          "base_uri": "https://localhost:8080/",
          "height": 101
        }
      },
      "source": [
        "import numpy as np\n",
        "X_= data_n_constant['k'].values.reshape(-1,1)\n",
        "X_sqrt = np.sqrt(X_)\n",
        "X_log=np.log2(X_)\n",
        "X_nlog=X_*np.log2(X_)\n",
        "X_n2=np.power(X_,2)\n",
        "from sklearn.linear_model import LinearRegression\n",
        "regr = LinearRegression()\n",
        "# Tìm hệ số để MSE ứng với hàm f(n) đạt min\n",
        "regr.fit(X_sqrt, data_n_constant['operations'])\n",
        "print(\"Hệ số hàm sqrt(n): \",regr.coef_)\n",
        "regr.fit(X_log, data_n_constant['operations'])\n",
        "print(\"Hệ số hàm log(n): \",regr.coef_)\n",
        "regr.fit(X_, data_n_constant['operations'])\n",
        "print(\"Hệ số hàm N: \",regr.coef_)\n",
        "regr.fit(X_nlog, data_n_constant['operations'])\n",
        "print(\"Hệ số hàm nlog(n): \",regr.coef_)\n",
        "regr.fit(X_n2, data_n_constant['operations'])\n",
        "print(\"Hệ số hàm n^2: \",regr.coef_)"
      ],
      "execution_count": 3,
      "outputs": [
        {
          "output_type": "stream",
          "text": [
            "Hệ số hàm sqrt(n):  [-0.3235162]\n",
            "Hệ số hàm log(n):  [-2.22929733]\n",
            "Hệ số hàm N:  [-0.00298042]\n",
            "Hệ số hàm nlog(n):  [-0.00022256]\n",
            "Hệ số hàm n^2:  [-2.97952999e-07]\n"
          ],
          "name": "stdout"
        }
      ]
    },
    {
      "cell_type": "markdown",
      "metadata": {
        "id": "E0ums5yfNQBg"
      },
      "source": [
        "#k=constant"
      ]
    },
    {
      "cell_type": "code",
      "metadata": {
        "id": "QI1VTLzLJpUy"
      },
      "source": [
        "import pandas as pd\n",
        "import numpy as np\n",
        "import matplotlib.pyplot  as plt"
      ],
      "execution_count": null,
      "outputs": []
    },
    {
      "cell_type": "code",
      "metadata": {
        "id": "v48cMtYfG9CK",
        "outputId": "22bf8145-370f-4a57-944c-2630da43dc04",
        "colab": {
          "base_uri": "https://localhost:8080/",
          "height": 349
        }
      },
      "source": [
        "data_k_constant=pd.read_csv('/content/new_data.csv', encoding='utf-8')\n",
        "data_k_constant.columns=['n','operations']\n",
        "plt.scatter(data_k_constant['n'],data_k_constant['operations'])\n",
        "import numpy as np\n",
        "X_= data_k_constant['n'].values.reshape(-1,1)\n",
        "X_sqrt = np.sqrt(X_)\n",
        "X_log=np.log2(X_)\n",
        "X_nlog=X_*np.log2(X_)\n",
        "X_n2=np.power(X_,2)\n",
        "from sklearn.linear_model import LinearRegression\n",
        "regr = LinearRegression()\n",
        "# Tìm hệ số để MSE ứng với hàm f(n) đạt min\n",
        "regr.fit(X_sqrt, data_k_constant['operations'])\n",
        "print(\"Hệ số hàm sqrt(n): \",regr.coef_)\n",
        "regr.fit(X_log, data_k_constant['operations'])\n",
        "print(\"Hệ số hàm log(n): \",regr.coef_)\n",
        "regr.fit(X_, data_k_constant['operations'])\n",
        "print(\"Hệ số hàm N: \",regr.coef_)\n",
        "regr.fit(X_nlog, data_k_constant['operations'])\n",
        "print(\"Hệ số hàm nlog(n): \",regr.coef_)\n",
        "regr.fit(X_n2, data_k_constant['operations'])\n",
        "print(\"Hệ số hàm n^2: \",regr.coef_)"
      ],
      "execution_count": null,
      "outputs": [
        {
          "output_type": "stream",
          "text": [
            "Hệ số hàm sqrt(n):  [0.00122055]\n",
            "Hệ số hàm log(n):  [0.13676095]\n",
            "Hệ số hàm N:  [1.49184694e-06]\n",
            "Hệ số hàm nlog(n):  [7.83520041e-08]\n",
            "Hệ số hàm n^2:  [3.11187677e-12]\n"
          ],
          "name": "stdout"
        },
        {
          "output_type": "display_data",
          "data": {
            "image/png": "[encoded data removed]",
            "text/plain": [
              "<Figure size 432x288 with 1 Axes>"
            ]
          },
          "metadata": {
            "tags": [],
            "needs_background": "light"
          }
        }
      ]
    }
  ]
}