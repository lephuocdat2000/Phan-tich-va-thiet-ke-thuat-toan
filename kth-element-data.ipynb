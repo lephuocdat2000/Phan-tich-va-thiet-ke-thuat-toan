{
  "nbformat": 4,
  "nbformat_minor": 0,
  "metadata": {
    "colab": {
      "name": "Untitled42.ipynb",
      "provenance": [],
      "toc_visible": true,
      "authorship_tag": "ABX9TyOCnBPNUg42ZXdM1F2L4BpZ",
      "include_colab_link": true
    },
    "kernelspec": {
      "name": "python3",
      "display_name": "Python 3"
    }
  },
  "cells": [
    {
      "cell_type": "markdown",
      "metadata": {
        "id": "view-in-github",
        "colab_type": "text"
      },
      "source": [
        "<a href=\"https://colab.research.google.com/github/lephuocdat2000/Phan-tich-va-thiet-ke-thuat-toan/blob/main/kth-element-data.ipynb\" target=\"_parent\"><img src=\"https://colab.research.google.com/assets/colab-badge.svg\" alt=\"Open In Colab\"/></a>"
      ]
    },
    {
      "cell_type": "markdown",
      "metadata": {
        "id": "5QC0sZCPNMGT"
      },
      "source": [
        "#n=constant\n"
      ]
    },
    {
      "cell_type": "code",
      "metadata": {
        "id": "fkhvaYQhebwC",
        "outputId": "e1f003f0-e35b-4b66-b06d-7d10ebfa3506",
        "colab": {
          "base_uri": "https://localhost:8080/",
          "height": 282
        }
      },
      "source": [
        "import pandas as pd\n",
        "data_n_constant=pd.read_csv('/content/kth-element.csv', encoding='utf-8')\n",
        "data_n_constant.columns=['k','operations']\n",
        "import matplotlib.pyplot as plt\n",
        "plt.scatter(data_n_constant['k'],data_n_constant['operations'])"
      ],
      "execution_count": null,
      "outputs": [
        {
          "output_type": "execute_result",
          "data": {
            "text/plain": [
              "<matplotlib.collections.PathCollection at 0x7fb03d7be080>"
            ]
          },
          "metadata": {
            "tags": []
          },
          "execution_count": 5
        },
        {
          "output_type": "display_data",
          "data": {
            "image/png": "[encoded data removed]",
            "text/plain": [
              "<Figure size 432x288 with 1 Axes>"
            ]
          },
          "metadata": {
            "tags": [],
            "needs_background": "light"
          }
        }
      ]
    },
    {
      "cell_type": "code",
      "metadata": {
        "id": "MG-uCL4nNLPS",
        "outputId": "5f4bf076-072c-4f41-f547-f455cdaef398",
        "colab": {
          "base_uri": "https://localhost:8080/",
          "height": 101
        }
      },
      "source": [
        "import numpy as np\n",
        "X_= data_n_constant['k'].values.reshape(-1,1)\n",
        "X_sqrt = np.sqrt(X_)\n",
        "X_log=np.log2(X_)\n",
        "X_nlog=X_*np.log2(X_)\n",
        "X_n2=np.power(X_,2)\n",
        "from sklearn.linear_model import LinearRegression\n",
        "regr = LinearRegression()\n",
        "# Tìm hệ số để MSE ứng với hàm f(n) đạt min\n",
        "regr.fit(X_sqrt, data_n_constant['operations'])\n",
        "print(\"Hệ số hàm sqrt(n): \",regr.coef_)\n",
        "regr.fit(X_log, data_n_constant['operations'])\n",
        "print(\"Hệ số hàm log(n): \",regr.coef_)\n",
        "regr.fit(X_, data_n_constant['operations'])\n",
        "print(\"Hệ số hàm N: \",regr.coef_)\n",
        "regr.fit(X_nlog, data_n_constant['operations'])\n",
        "print(\"Hệ số hàm nlog(n): \",regr.coef_)\n",
        "regr.fit(X_n2, data_n_constant['operations'])\n",
        "print(\"Hệ số hàm n^2: \",regr.coef_)"
      ],
      "execution_count": null,
      "outputs": [
        {
          "output_type": "stream",
          "text": [
            "Hệ số hàm sqrt(n):  [-0.3235162]\n",
            "Hệ số hàm log(n):  [-2.22929733]\n",
            "Hệ số hàm N:  [-0.00298042]\n",
            "Hệ số hàm nlog(n):  [-0.00022256]\n",
            "Hệ số hàm n^2:  [-2.97952999e-07]\n"
          ],
          "name": "stdout"
        }
      ]
    },
    {
      "cell_type": "markdown",
      "metadata": {
        "id": "E0ums5yfNQBg"
      },
      "source": [
        "#k=constant"
      ]
    },
    {
      "cell_type": "code",
      "metadata": {
        "id": "v48cMtYfG9CK",
        "outputId": "680ae321-58d0-403b-d061-acd0d3fa0a84",
        "colab": {
          "base_uri": "https://localhost:8080/",
          "height": 349
        }
      },
      "source": [
        "data_k_constant=pd.read_csv('/content/kth-element(2).csv', encoding='utf-8')\n",
        "data_k_constant.columns=['n','operations']\n",
        "plt.scatter(data_k_constant['n'],data_k_constant['operations'])\n",
        "import numpy as np\n",
        "X_= data_k_constant['n'].values.reshape(-1,1)\n",
        "X_sqrt = np.sqrt(X_)\n",
        "X_log=np.log2(X_)\n",
        "X_nlog=X_*np.log2(X_)\n",
        "X_n2=np.power(X_,2)\n",
        "from sklearn.linear_model import LinearRegression\n",
        "regr = LinearRegression()\n",
        "# Tìm hệ số để MSE ứng với hàm f(n) đạt min\n",
        "regr.fit(X_sqrt, data_k_constant['operations'])\n",
        "print(\"Hệ số hàm sqrt(n): \",regr.coef_)\n",
        "regr.fit(X_log, data_k_constant['operations'])\n",
        "print(\"Hệ số hàm log(n): \",regr.coef_)\n",
        "regr.fit(X_, data_k_constant['operations'])\n",
        "print(\"Hệ số hàm N: \",regr.coef_)\n",
        "regr.fit(X_nlog, data_k_constant['operations'])\n",
        "print(\"Hệ số hàm nlog(n): \",regr.coef_)\n",
        "regr.fit(X_n2, data_k_constant['operations'])\n",
        "print(\"Hệ số hàm n^2: \",regr.coef_)"
      ],
      "execution_count": 12,
      "outputs": [
        {
          "output_type": "stream",
          "text": [
            "Hệ số hàm sqrt(n):  [0.2582155]\n",
            "Hệ số hàm log(n):  [5.28045293]\n",
            "Hệ số hàm N:  [0.0019605]\n",
            "Hệ số hàm nlog(n):  [0.00014342]\n",
            "Hệ số hàm n^2:  [1.78879098e-07]\n"
          ],
          "name": "stdout"
        },
        {
          "output_type": "display_data",
          "data": {
            "image/png": "[encoded data removed]",
            "text/plain": [
              "<Figure size 432x288 with 1 Axes>"
            ]
          },
          "metadata": {
            "tags": [],
            "needs_background": "light"
          }
        }
      ]
    }
  ]
}