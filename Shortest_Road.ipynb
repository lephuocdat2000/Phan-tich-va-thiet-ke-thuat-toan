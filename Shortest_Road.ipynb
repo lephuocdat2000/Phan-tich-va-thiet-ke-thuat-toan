{
  "nbformat": 4,
  "nbformat_minor": 0,
  "metadata": {
    "colab": {
      "name": "Untitled98.ipynb",
      "provenance": [],
      "authorship_tag": "ABX9TyMvUxUk5cC62Gi+gr5QBdVC",
      "include_colab_link": true
    },
    "kernelspec": {
      "name": "python3",
      "display_name": "Python 3"
    }
  },
  "cells": [
    {
      "cell_type": "markdown",
      "metadata": {
        "id": "view-in-github",
        "colab_type": "text"
      },
      "source": [
        "<a href=\"https://colab.research.google.com/github/lephuocdat2000/Phan-tich-va-thiet-ke-thuat-toan/blob/main/Shortest_Road.ipynb\" target=\"_parent\"><img src=\"https://colab.research.google.com/assets/colab-badge.svg\" alt=\"Open In Colab\"/></a>"
      ]
    },
    {
      "cell_type": "code",
      "metadata": {
        "colab": {
          "base_uri": "https://localhost:8080/"
        },
        "id": "MqLwTliQLjUQ",
        "outputId": "c300011a-0e42-4c86-80fd-646f5fcb0167"
      },
      "source": [
        "x, y = map(int, input().split())\r\n",
        "matrix=[]\r\n",
        "for i in range(x):       \r\n",
        "    matrix.append(list(map(int, input().split()))) \r\n",
        "memoi=[[0]*y]*x \r\n",
        "memoi[0][0]=1\r\n",
        "def shortest_road(x,y,memoi):\r\n",
        "   print(x,y)\r\n",
        "   if memoi[x][y]!=0: return memoi[x][y]\r\n",
        "   if x==0 and y==0: return 1\r\n",
        "   if x<0 or y<0: return 0\r\n",
        "   if matrix[x][y]==0:return 0 \r\n",
        "   memoi[x][y]=shortest_road(x-1,y,memoi) + shortest_road(x,y-1,memoi)\r\n",
        "   return memoi[x][y]\r\n",
        "shortest_road(x-1,y-1,memoi)\r\n",
        "   \r\n"
      ],
      "execution_count": 24,
      "outputs": [
        {
          "output_type": "stream",
          "text": [
            "6 10\n",
            "1 1 1 1 1 1 1 1 1 1\n",
            "1 1 0 1 1 1 1 0 0 1\n",
            "0 0 0 1 1 1 1 1 1 1\n",
            "1 1 0 1 1 0 1 0 1 1\n",
            "1 1 1 1 1 1 1 1 1 1\n",
            "1 1 0 1 1 0 1 1 0 1\n",
            "5 9\n",
            "4 9\n",
            "3 9\n",
            "2 9\n",
            "1 9\n",
            "0 9\n",
            "-1 9\n",
            "0 8\n",
            "-1 8\n",
            "0 7\n",
            "-1 7\n",
            "0 6\n",
            "-1 6\n",
            "0 5\n",
            "-1 5\n",
            "0 4\n",
            "-1 4\n",
            "0 3\n",
            "-1 3\n",
            "0 2\n",
            "-1 2\n",
            "0 1\n",
            "-1 1\n",
            "0 0\n",
            "1 8\n",
            "2 8\n",
            "3 8\n",
            "4 8\n",
            "5 8\n"
          ],
          "name": "stdout"
        },
        {
          "output_type": "execute_result",
          "data": {
            "text/plain": [
              "6"
            ]
          },
          "metadata": {
            "tags": []
          },
          "execution_count": 24
        }
      ]
    }
  ]
}