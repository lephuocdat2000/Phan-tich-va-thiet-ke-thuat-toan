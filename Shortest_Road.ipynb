{
  "nbformat": 4,
  "nbformat_minor": 0,
  "metadata": {
    "colab": {
      "name": "Untitled98.ipynb",
      "provenance": [],
      "authorship_tag": "ABX9TyM/R2xS+lvGAuf+tP490JRT",
      "include_colab_link": true
    },
    "kernelspec": {
      "name": "python3",
      "display_name": "Python 3"
    }
  },
  "cells": [
    {
      "cell_type": "markdown",
      "metadata": {
        "id": "view-in-github",
        "colab_type": "text"
      },
      "source": [
        "<a href=\"https://colab.research.google.com/github/lephuocdat2000/Phan-tich-va-thiet-ke-thuat-toan/blob/main/Shortest_Road.ipynb\" target=\"_parent\"><img src=\"https://colab.research.google.com/assets/colab-badge.svg\" alt=\"Open In Colab\"/></a>"
      ]
    },
    {
      "cell_type": "code",
      "metadata": {
        "colab": {
          "base_uri": "https://localhost:8080/"
        },
        "id": "MqLwTliQLjUQ",
        "outputId": "835b06e1-06e1-43be-eb5d-9ad1a5a0684a"
      },
      "source": [
        "k=10000000000001\r\n",
        "x, y = map(int, input().split())\r\n",
        "matrix=[]\r\n",
        "for i in range(x):       \r\n",
        "    matrix.append(list(map(int, input().split()))) \r\n",
        "memoi=[[-1 for i in range(y)] for i in range(x)]\r\n",
        "memoi[0][0]=1\r\n",
        "def shortest_road(x,y,memoi):\r\n",
        "   if memoi[x][y]!=-1: return memoi[x][y]\r\n",
        "   if x==0 and y==0: return 1\r\n",
        "   if (x<0) or (y<0): return 0\r\n",
        "   memoi[x][y]= shortest_road(x-1,y,memoi) + shortest_road(x,y-1,memoi)\r\n",
        "   if matrix[x][y]==0: memoi[x][y]=0\r\n",
        "   return memoi[x][y]\r\n",
        "print(shortest_road(x-1,y-1,memoi)%k)\r\n",
        "   \r\n"
      ],
      "execution_count": 44,
      "outputs": [
        {
          "output_type": "stream",
          "text": [
            "6 10\n",
            "1 1 1 1 1 1 1 1 1 1\n",
            "1 1 0 1 1 1 1 0 0 1\n",
            "0 0 0 1 1 1 1 1 1 1\n",
            "1 1 0 1 1 0 1 0 1 1\n",
            "1 1 1 1 1 1 1 1 1 1\n",
            "1 1 0 1 1 0 1 1 0 1\n",
            "46\n"
          ],
          "name": "stdout"
        }
      ]
    },
    {
      "cell_type": "code",
      "metadata": {
        "id": "MThq3R731Di3",
        "outputId": "0a2630cc-801e-4d6f-8c92-25ee68112c53",
        "colab": {
          "base_uri": "https://localhost:8080/"
        }
      },
      "source": [
        "print(memoi)"
      ],
      "execution_count": 38,
      "outputs": [
        {
          "output_type": "stream",
          "text": [
            "[[1, 1, 1, 1, 1, 1, 1, 1, 1, 1], [1, 2, 0, 1, 2, 3, 4, 0, 0, 1], [0, 0, 0, 1, 3, 6, 10, 10, 10, 11], [21, 21, 0, 1, 4, 0, 10, 0, 10, 21], [21, 42, 42, 43, 47, 47, 57, 57, 67, 88], [21, 63, 0, 43, 90, 0, 57, 114, 0, 88]]\n"
          ],
          "name": "stdout"
        }
      ]
    }
  ]
}